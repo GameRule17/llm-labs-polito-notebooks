{
  "cells": [
    {
      "cell_type": "markdown",
      "metadata": {
        "id": "zJnCZrWBTN9g"
      },
      "source": [
        "## Tokenization\n"
      ]
    },
    {
      "cell_type": "markdown",
      "metadata": {
        "id": "X02C8PP2TN9h"
      },
      "source": [
        "For transformers, a fundamental step is to convert the input text into a sequence of tokens. Tokenizers are used for this purpose. Different tokenization techniques can be used (e.g., Byte-Pair Encoding).\n",
        "\n",
        "These tokenizers need to be trained on some corpus (e.g., to figure out what the most common words are). However, the Hugging Face library provides pre-trained tokenizers that can be used out of the box.\n",
        "\n",
        "Generally, each model has its own tokenizer. For example, the `BertTokenizer` is used for BERT models, and the `GPT2Tokenizer` is used for GPT-2 models.\n",
        "\n",
        "\n",
        "Since we will be using T5 for this exercise, we should be using the `T5Tokenizer` class. However, HuggingFace provides a common `AutoTokenizer` class that can be used to load the appropriate tokenizer for a given model  (do note, however, that the returned class will be the \"correct\" one!)."
      ]
    },
    {
      "cell_type": "code",
      "execution_count": null,
      "metadata": {
        "colab": {
          "base_uri": "https://localhost:8080/",
          "height": 255,
          "referenced_widgets": [
            "bc7f6fa919404acdb6df08cbbb57aeaa",
            "0f90a2b7c6a844b08b82608b3b0d19c0",
            "7a35bb9a54cb44e0979aa09f7b610f86",
            "59c3309206954e7c8389ef22ea2dd4b1",
            "f7cdc6b2ff124bb2a4b11f02da836bce",
            "822b6a3fe202462dad1f8ef02696ff71",
            "8bece923e434440cb3896c51a89973c7",
            "91f3e33f932e44febf8bcf9c335dc467",
            "630d350b72134608985be5f3d3090f69",
            "40f632aa04ea4edb942f19fc6861507e",
            "1683c3c630bb4cfcbbb0c4a60be9805a",
            "d9c2da5446c04ce7978401417be17f06",
            "f8cc9faef4e04b5082e8660198430dfa",
            "91bc44d0b62f4d29ba409d08cfa1a063",
            "10f39b471e7141ebaa9f0504a2db7868",
            "acf6b63384ee403aa82600df52985ea8",
            "3310a78d3b224b60b1a6b23f3e8eef13",
            "2eac061630094aeba3c3fa39ca1dc843",
            "f5d7045ebd3d471d801abbf9aded78c2",
            "6698d68321c04d4f92eec10776fc5446",
            "22259431bbf34057952b152cf4888817",
            "e7dc3a24ac0b4470a93783a736b9f15a",
            "8470f8c87ec446c2a1ec2d9479715396",
            "76d651c4a3a54a91a2d78e3798e5b2ee",
            "2adad6653a954973a7ca80cf80943c31",
            "1a9ccea166cb4aa0bf51a9426c3cac28",
            "291c5b112577479c8c0aa12c7fcf065d",
            "80a9232c8f2e4618b25cad1445dfdc70",
            "f7fba1b83e2842f2b2e2074687aead4e",
            "17c1be419e764c8bbb375c139cbd5be4",
            "4d9f2fe4958b486c9c83518eaa4b2f75",
            "e71a6e547fc54b0b83955c3c2f27b45b",
            "0ca1c035812c49f3aa90f3ef8cd309e2"
          ]
        },
        "id": "f4YuXh-OTN9h",
        "outputId": "e4065a18-2013-48fb-888e-69f7e8fde689"
      },
      "outputs": [
        {
          "output_type": "stream",
          "name": "stderr",
          "text": [
            "/usr/local/lib/python3.12/dist-packages/huggingface_hub/utils/_auth.py:94: UserWarning: \n",
            "The secret `HF_TOKEN` does not exist in your Colab secrets.\n",
            "To authenticate with the Hugging Face Hub, create a token in your settings tab (https://huggingface.co/settings/tokens), set it as secret in your Google Colab and restart your session.\n",
            "You will be able to reuse this secret in all of your notebooks.\n",
            "Please note that authentication is recommended but still optional to access public models or datasets.\n",
            "  warnings.warn(\n"
          ]
        },
        {
          "output_type": "display_data",
          "data": {
            "text/plain": [
              "config.json: 0.00B [00:00, ?B/s]"
            ],
            "application/vnd.jupyter.widget-view+json": {
              "version_major": 2,
              "version_minor": 0,
              "model_id": "bc7f6fa919404acdb6df08cbbb57aeaa"
            }
          },
          "metadata": {}
        },
        {
          "output_type": "display_data",
          "data": {
            "text/plain": [
              "spiece.model:   0%|          | 0.00/792k [00:00<?, ?B/s]"
            ],
            "application/vnd.jupyter.widget-view+json": {
              "version_major": 2,
              "version_minor": 0,
              "model_id": "d9c2da5446c04ce7978401417be17f06"
            }
          },
          "metadata": {}
        },
        {
          "output_type": "display_data",
          "data": {
            "text/plain": [
              "tokenizer.json: 0.00B [00:00, ?B/s]"
            ],
            "application/vnd.jupyter.widget-view+json": {
              "version_major": 2,
              "version_minor": 0,
              "model_id": "8470f8c87ec446c2a1ec2d9479715396"
            }
          },
          "metadata": {}
        },
        {
          "output_type": "stream",
          "name": "stdout",
          "text": [
            "<class 'transformers.models.t5.tokenization_t5_fast.T5TokenizerFast'>\n"
          ]
        }
      ],
      "source": [
        "from transformers import AutoTokenizer\n",
        "\n",
        "model_name = \"google-t5/t5-base\"\n",
        "\n",
        "tokenizer = AutoTokenizer.from_pretrained(model_name)\n",
        "\n",
        "# TODO: print the type of the tokenizer\n",
        "print(type(tokenizer))\n",
        "\n",
        "# This is simply converting text to tokens and tokens to text back"
      ]
    },
    {
      "cell_type": "markdown",
      "metadata": {
        "id": "cmN-MrVGTN9i"
      },
      "source": [
        "### Encoding/Decoding"
      ]
    },
    {
      "cell_type": "markdown",
      "metadata": {
        "id": "QAhnZnwjTN9i"
      },
      "source": [
        "Tokenization can be carried out by passing a string that we want to tokenize. The tokenizer implements the `__call__` method, so we can call the tokenizer directly, as follows.\n",
        "\n",
        "Note that the output is a dictionary, which generally has the following keys:\n",
        "\n",
        "- `input_ids`: The tokenized input text (a list of token IDs by default).\n",
        "- `attention_mask`: A mask that indicates which elements in the input text are tokens and which are padding tokens. For now, we can ignore this (there is no padding). It will instead become useful when we encode batches of sentences of different lengths at the same time."
      ]
    },
    {
      "cell_type": "code",
      "execution_count": null,
      "metadata": {
        "colab": {
          "base_uri": "https://localhost:8080/"
        },
        "id": "TsNEe8IRTN9i",
        "outputId": "50b253ab-7205-4334-c6e3-88dcf6bd3bbc"
      },
      "outputs": [
        {
          "output_type": "stream",
          "name": "stdout",
          "text": [
            "{'input_ids': [21820, 6, 48, 19, 3, 9, 7142, 55, 1], 'attention_mask': [1, 1, 1, 1, 1, 1, 1, 1, 1]}\n"
          ]
        }
      ],
      "source": [
        "sentence = \"hello, this is a sentence!\"\n",
        "\n",
        "# TODO: use the tokenizer to tokenize the sentence and print the result\n",
        "tokens = tokenizer(sentence)\n",
        "print(tokens) # embeddings"
      ]
    },
    {
      "cell_type": "markdown",
      "metadata": {
        "id": "xO771W6PTN9i"
      },
      "source": [
        "We can reverse the encoding operation (i.e., going from token IDs to strings) by using the `decode` method of the tokenizer."
      ]
    },
    {
      "cell_type": "code",
      "execution_count": null,
      "metadata": {
        "colab": {
          "base_uri": "https://localhost:8080/",
          "height": 35
        },
        "id": "vEAu3ijxTN9i",
        "outputId": "d7baea61-2a53-4c7c-d0b4-bb31f0b4eeef"
      },
      "outputs": [
        {
          "output_type": "execute_result",
          "data": {
            "text/plain": [
              "'hello, this is a sentence!</s>'"
            ],
            "application/vnd.google.colaboratory.intrinsic+json": {
              "type": "string"
            }
          },
          "metadata": {},
          "execution_count": 3
        }
      ],
      "source": [
        "tokenizer.decode(tokens[\"input_ids\"])\n",
        "# text mapped back"
      ]
    },
    {
      "cell_type": "markdown",
      "metadata": {
        "id": "vHwHa_ZlTN9i"
      },
      "source": [
        "Note that we have an extra part at the end of the string, which is the special token `</s>`. This token is used to indicate the end of the input text (EOS). This token is automatically added by the tokenizer when encoding the input text."
      ]
    },
    {
      "cell_type": "markdown",
      "metadata": {
        "id": "we6ATYg_TN9i"
      },
      "source": [
        "To learn what the mapping between tokens and token IDs is, we can get the tokenizer's vocabulary (`.get_vocab()`), which provides the mapping between tokens and respective IDs.\n",
        "\n",
        "For convenience, we build also a reverse vocabulary (i.e., from IDs to tokens)."
      ]
    },
    {
      "cell_type": "code",
      "execution_count": null,
      "metadata": {
        "id": "ediKHFHMTN9i"
      },
      "outputs": [],
      "source": [
        "import random\n",
        "\n",
        "vocabulary = tokenizer.get_vocab()\n",
        "\n",
        "# TODO: print 10 random words from the vocabulary\n",
        "reverse_vocab = { v:k for k,v in vocabulary.items() }\n",
        "\n",
        "vocab_keys = list(vocabulary.keys())\n",
        "random.shuffle(vocab_keys)\n",
        "\n",
        "# ..."
      ]
    },
    {
      "cell_type": "code",
      "execution_count": null,
      "metadata": {
        "colab": {
          "base_uri": "https://localhost:8080/"
        },
        "id": "-ya-WTe8TN9i",
        "outputId": "6e459d93-d270-4f2f-aecd-c90ac3edd29f"
      },
      "outputs": [
        {
          "output_type": "stream",
          "name": "stdout",
          "text": [
            "Total vocabulary size: 32100\n"
          ]
        }
      ],
      "source": [
        "print(\"Total vocabulary size:\", len(vocabulary))"
      ]
    },
    {
      "cell_type": "markdown",
      "metadata": {
        "id": "TbTJ2jL1TN9j"
      },
      "source": [
        "We have a total of 32100. For T5, that's 32000 tokens + 100 special tokens (<extra_id_0>, <extra_id_1>, ..., <extra_id_99>) -- used for the tasks that T5 was trained on."
      ]
    },
    {
      "cell_type": "markdown",
      "metadata": {
        "id": "066ag7wuTN9j"
      },
      "source": [
        "Let's see what the token id for the special token `</s>` is."
      ]
    },
    {
      "cell_type": "code",
      "execution_count": null,
      "metadata": {
        "colab": {
          "base_uri": "https://localhost:8080/"
        },
        "id": "DGLRhcCNTN9j",
        "outputId": "6feb5564-251b-4a72-f9c8-b8b110779bf7"
      },
      "outputs": [
        {
          "output_type": "execute_result",
          "data": {
            "text/plain": [
              "1"
            ]
          },
          "metadata": {},
          "execution_count": 6
        }
      ],
      "source": [
        "vocabulary[\"</s>\"]"
      ]
    },
    {
      "cell_type": "markdown",
      "metadata": {
        "id": "bOIzRZfzTN9j"
      },
      "source": [
        "And indeed, note that our `tokens` has a 1 showing up at the end!"
      ]
    },
    {
      "cell_type": "code",
      "execution_count": null,
      "metadata": {
        "colab": {
          "base_uri": "https://localhost:8080/"
        },
        "id": "JXLPCBNeTN9j",
        "outputId": "abbe57bd-a3c1-47c5-d9bd-8c20a8558ec9"
      },
      "outputs": [
        {
          "output_type": "execute_result",
          "data": {
            "text/plain": [
              "[21820, 6, 48, 19, 3, 9, 7142, 55, 1]"
            ]
          },
          "metadata": {},
          "execution_count": 7
        }
      ],
      "source": [
        "tokens[\"input_ids\"]"
      ]
    },
    {
      "cell_type": "markdown",
      "metadata": {
        "id": "6Z9Y8EKmTN9j"
      },
      "source": [
        "We can include special tokens inside of the strings themselves. For instance:"
      ]
    },
    {
      "cell_type": "code",
      "execution_count": null,
      "metadata": {
        "colab": {
          "base_uri": "https://localhost:8080/"
        },
        "id": "ZYtHZC35TN9j",
        "outputId": "70b24a97-a1cf-468d-aa70-800109ad3a1f"
      },
      "outputs": [
        {
          "output_type": "execute_result",
          "data": {
            "text/plain": [
              "{'input_ids': [21820, 55, 1, 1, 1], 'attention_mask': [1, 1, 1, 1, 1]}"
            ]
          },
          "metadata": {},
          "execution_count": 8
        }
      ],
      "source": [
        "tokenizer(\"hello!</s></s>\")"
      ]
    },
    {
      "cell_type": "markdown",
      "metadata": {
        "id": "pW8xr03OTN9j"
      },
      "source": [
        "Here, we have 2 `</s>` tokens (the ones we specified), plus an additional one that was added by the tokenizer."
      ]
    },
    {
      "cell_type": "markdown",
      "metadata": {
        "id": "It_7JSm8TN9j"
      },
      "source": [
        "Instead of getting token IDs directly, we may look at the tokens being produced, directly. We use the `tokenize()` method in this case."
      ]
    },
    {
      "cell_type": "code",
      "execution_count": null,
      "metadata": {
        "colab": {
          "base_uri": "https://localhost:8080/"
        },
        "id": "3WygRhVaTN9j",
        "outputId": "e419af32-9b70-4f55-ea33-72c9a3ad7f98"
      },
      "outputs": [
        {
          "output_type": "execute_result",
          "data": {
            "text/plain": [
              "['▁hello', ',', '▁this', '▁is', '▁', 'a', '▁sentence', '!']"
            ]
          },
          "metadata": {},
          "execution_count": 9
        }
      ],
      "source": [
        "tokenizer.tokenize(sentence)"
      ]
    },
    {
      "cell_type": "markdown",
      "metadata": {
        "id": "RUmerXtmTN9j"
      },
      "source": [
        "What's up with those `_`? They simply represent words that are starting after spaces. This helps us understand whether a token is being used at the beginning of a sentence, or if it's in the middle of a word."
      ]
    },
    {
      "cell_type": "code",
      "execution_count": null,
      "metadata": {
        "colab": {
          "base_uri": "https://localhost:8080/"
        },
        "id": "DAQX6y2FTN9j",
        "outputId": "5cf45270-3eaf-48bd-8bf8-fcd7df85b8b9"
      },
      "outputs": [
        {
          "output_type": "stream",
          "name": "stdout",
          "text": [
            "['▁hello', '▁', ',', 'world']\n",
            "['▁hello', '▁', ',', '▁world']\n"
          ]
        }
      ],
      "source": [
        "print(tokenizer.tokenize(\"hello    ,world\"))\n",
        "print(tokenizer.tokenize(\"hello    , world\"))\n",
        "\n",
        "# any extra space is not considered"
      ]
    },
    {
      "cell_type": "markdown",
      "metadata": {
        "id": "i75YFtN9TN9k"
      },
      "source": [
        "In the above case, `_hello` is the token for the word \"hello\" at the beginning of the sentence. However, the word \"world\" is mapped to two different tokens, depending on whether there is a space before the word or not.\n",
        "\n",
        "Notice also how multiple spaces are compacted into a single one!\n",
        "\n",
        "These are all tokenizer-specific details. The tokenizer is responsible for deciding how to tokenize the input text. You may observe different behaviors for different tokenizers."
      ]
    },
    {
      "cell_type": "markdown",
      "metadata": {
        "id": "xy1YThAiTN9k"
      },
      "source": [
        "### Special tokens\n",
        "\n",
        "Each model typically has its own special tokens. Some are necessary for the training process, while others can be beneficial at inference time.\n",
        "\n",
        "Special attributes are available in the tokenizer class to access these special tokens. Some examples are:\n",
        "\n",
        "- `pad_token` is the token used for padding (as discussed later),\n",
        "- `bos_token` and `eos_token` tokens are used to indicate the beginning and end of the input text, respectively,\n",
        "- `mask_token` is used for masking tokens during training (e.g., for the masked LM task, with BERT),\n",
        "- `sep_token` is used to separate sentences in the input text (e.g., next sentence prediction, with BERT),\n",
        "- `cls_token` is used to indicate the beginning of the input text (e.g., for classification tasks, with BERT),\n",
        "- `unk_token` is used to indicate unknown tokens (i.e., tokens that are not in the vocabulary).\n",
        "\n",
        "Of course, not all tokenizers will use all tokens. So those attributes will be set to None, if not used.\n",
        "\n",
        "For instance, T5 has EOS and PAD tokens, but no BOS token."
      ]
    },
    {
      "cell_type": "code",
      "execution_count": null,
      "metadata": {
        "colab": {
          "base_uri": "https://localhost:8080/"
        },
        "id": "U3JS8iTGTN9k",
        "outputId": "a8cbffc6-b738-411e-f94b-74d99957e836"
      },
      "outputs": [
        {
          "output_type": "execute_result",
          "data": {
            "text/plain": [
              "('</s>', '<pad>', None)"
            ]
          },
          "metadata": {},
          "execution_count": 11
        }
      ],
      "source": [
        "tokenizer.eos_token, tokenizer.pad_token, tokenizer.bos_token"
      ]
    },
    {
      "cell_type": "markdown",
      "metadata": {
        "id": "aqmaCaMXTN9k"
      },
      "source": [
        "The `_id` suffix is used to indicate the corresponding token ID (None if not applicable)."
      ]
    },
    {
      "cell_type": "code",
      "execution_count": null,
      "metadata": {
        "colab": {
          "base_uri": "https://localhost:8080/"
        },
        "id": "Cv24cmGPTN9k",
        "outputId": "65278a8e-59e4-4924-cf2b-45db88e9ba15"
      },
      "outputs": [
        {
          "output_type": "execute_result",
          "data": {
            "text/plain": [
              "(1, 0, None)"
            ]
          },
          "metadata": {},
          "execution_count": 12
        }
      ],
      "source": [
        "tokenizer.eos_token_id, tokenizer.pad_token_id, tokenizer.bos_token_id"
      ]
    },
    {
      "cell_type": "markdown",
      "metadata": {
        "id": "C7zBbEW0TN9k"
      },
      "source": [
        "### Batch encoding/decoding\n",
        "\n",
        "In general (especially at training time) we will want to encode multiple sentences at once (e.g., an entire batch of sentences).\n",
        "\n",
        "We can pass a list of sentences to be encoded to the tokenizer."
      ]
    },
    {
      "cell_type": "code",
      "execution_count": null,
      "metadata": {
        "colab": {
          "base_uri": "https://localhost:8080/"
        },
        "id": "Ap_OivBoTN9k",
        "outputId": "102e108d-27be-43ad-8fc6-4eaf5e7a805f"
      },
      "outputs": [
        {
          "output_type": "stream",
          "name": "stdout",
          "text": [
            "[48, 19, 8, 166, 7142, 1]\n",
            "[1446, 6, 48, 19, 8, 511, 5932, 55, 1]\n"
          ]
        }
      ],
      "source": [
        "sentences = [\n",
        "    \"this is the first sentence\",\n",
        "    \"instead, this is the second sequence!\"\n",
        "]\n",
        "\n",
        "#TODO: use the tokenizer to tokenize the sentences and print the result\n",
        "tokens = tokenizer(sentences)\n",
        "for tok in tokens[\"input_ids\"]:\n",
        "  print(tok)"
      ]
    },
    {
      "cell_type": "markdown",
      "metadata": {
        "id": "jb2eDxOfTN9k"
      },
      "source": [
        "Of course, sentences of different lengths have a different number of tokens! However, tensors (that will be used by the model) need to have the same number of elements along each dimension.\n",
        "\n",
        "To do this, we can use padding: all sentences will be padded to the length of the longest sentence in the batch. This is done by adding `pad` tokens (`<pad>`, for T5).\n",
        "\n",
        "However, since the pad tokens are not part of the input text, we need to let the model know that it should not pay attention to them. That's what the `attention_mask` is for!"
      ]
    },
    {
      "cell_type": "code",
      "execution_count": null,
      "metadata": {
        "colab": {
          "base_uri": "https://localhost:8080/"
        },
        "id": "AzcTvv3iTN9k",
        "outputId": "2e2bb43e-8d38-4182-ead7-1e83c37bd494"
      },
      "outputs": [
        {
          "output_type": "stream",
          "name": "stdout",
          "text": [
            "[48, 19, 8, 166, 7142, 1, 0, 0, 0] [1, 1, 1, 1, 1, 1, 0, 0, 0]\n",
            "[1446, 6, 48, 19, 8, 511, 5932, 55, 1] [1, 1, 1, 1, 1, 1, 1, 1, 1]\n"
          ]
        }
      ],
      "source": [
        "#TODO: use the tokenizer to tokenize the sentences with padding and print the result (use padding=True)\n",
        "tokens = tokenizer(sentences, padding=True)\n",
        "for tok, att in zip(tokens[\"input_ids\"], tokens[\"attention_mask\"]):\n",
        "  print(tok, att)"
      ]
    },
    {
      "cell_type": "markdown",
      "metadata": {
        "id": "4u97Il_eTN9k"
      },
      "source": [
        "The first sentence is padded to the same length as the second sentence, with 0's (remember, the ID for `<pad>`!).\n",
        "\n",
        "The attention mask for the first sentence also contains 0's for the padding tokens: the model will ignore them when processing the input text.\n",
        "\n",
        "Since now all sentences have the same length, we can stack them into a single tensor. Luckily, the tokenizer can already do this for us, we just need to ask.\n"
      ]
    },
    {
      "cell_type": "code",
      "execution_count": null,
      "metadata": {
        "colab": {
          "base_uri": "https://localhost:8080/"
        },
        "id": "P8gzBUPiTN9k",
        "outputId": "2a8be901-9ead-48ca-f520-45415ec2292b"
      },
      "outputs": [
        {
          "output_type": "stream",
          "name": "stdout",
          "text": [
            "tensor([[  48,   19,    8,  166, 7142,    1,    0,    0,    0],\n",
            "        [1446,    6,   48,   19,    8,  511, 5932,   55,    1]])\n",
            "tensor([[1, 1, 1, 1, 1, 1, 0, 0, 0],\n",
            "        [1, 1, 1, 1, 1, 1, 1, 1, 1]])\n"
          ]
        }
      ],
      "source": [
        "#TODO: use the tokenizer to tokenize the sentences with padding as a tensor and print the result (use padding=True and return_tensors=\"pt\")\n",
        "tokens = tokenizer(sentences, padding=True, return_tensors=\"pt\")\n",
        "\n",
        "print(tokens[\"input_ids\"])\n",
        "print(tokens[\"attention_mask\"])"
      ]
    },
    {
      "cell_type": "markdown",
      "metadata": {
        "id": "J7dDoRdnTN9k"
      },
      "source": [
        "For completeness, we can also decode batches of sentences, with `tokenizer.batch_decode()`."
      ]
    },
    {
      "cell_type": "code",
      "execution_count": null,
      "metadata": {
        "colab": {
          "base_uri": "https://localhost:8080/"
        },
        "id": "mIc7Qp_0TN9k",
        "outputId": "24521ec1-f5bf-45db-f55e-f5cc52ab802d"
      },
      "outputs": [
        {
          "output_type": "execute_result",
          "data": {
            "text/plain": [
              "['this is the first sentence</s><pad><pad><pad>',\n",
              " 'instead, this is the second sequence!</s>']"
            ]
          },
          "metadata": {},
          "execution_count": 18
        }
      ],
      "source": [
        "tokenizer.batch_decode(tokens[\"input_ids\"])"
      ]
    },
    {
      "cell_type": "markdown",
      "metadata": {
        "id": "Lts2TT1WTN9l"
      },
      "source": [
        "## Model analysis"
      ]
    },
    {
      "cell_type": "markdown",
      "metadata": {
        "id": "tpI7ytyKTN9l"
      },
      "source": [
        "Now we can go ahead and finally load our T5 model. We once again use a pretrained version available on HuggingFace.\n",
        "\n",
        "In general, we could use the `AutoModel` class for the loading, of the model. However, that version of the model does not include the specific heads for the tasks that T5 was trained on.\n",
        "\n",
        "The transformers library can make our life easier by defining a family of `AutoModel...` classes.\n",
        "\n",
        "For instance, the following are some commonly adopted classes:\n",
        "- `AutoModel`: the base class for all models,\n",
        "- `AutoModelForSequenceClassification`: a model for sequence classification tasks. It consists of a base model plus a classification head (linear layer + softmax). Note that, generally, the classification head is initialized randomly, and it needs to be trained on the specific task (but the library will let you know with a warning),\n",
        "- `AutoModelForCaualLM`: a model for causal language modeling tasks (e.g., GPT-2), where we generate the output tokens one by one,\n",
        "- `AutoModelForMaskedLM`: a model for masked language modeling tasks (e.g., BERT), where we predict the masked tokens in the input text,\n",
        "- `AutoModelForTokenClassification`: a model for token classification tasks (e.g., NER), where we classify each token in the input text.\n",
        "- `AutoModelForSeq2SeqLM`: a model for sequence-to-sequence tasks (e.g., T5), where we generate the output tokens one by one in an autoregressive manner, conditioned on the input sequence.\n",
        "\n",
        "In our specific case, we will use the `AutoModelForSeq2SeqLM` class to be able to generate new tokens."
      ]
    },
    {
      "cell_type": "code",
      "execution_count": null,
      "metadata": {
        "colab": {
          "base_uri": "https://localhost:8080/",
          "height": 98,
          "referenced_widgets": [
            "208c94eade1644a582bae703aabb495c",
            "842815ea79ec4847bea59057d6cc7b21",
            "2c15b72eb6ec4f0897035d26c181444f",
            "ea3ef4d9226d43de8b9cd512ebf06052",
            "3dca8268bace4c979359c1a2395e50ee",
            "294f84fb905448f794fbc131f73b7b81",
            "ca9057bee3784791805d0ee672bf34e9",
            "110ca3d1e02d4ec2ab38d47e8d8ef900",
            "9ffc8d765a6c443fbaa9cae3c35f4758",
            "095bf3c65274404bb1b5c7d9d565a6ac",
            "edae78ee811b41c8a3f44c5c333dfe7d",
            "820449386d43425e952aa6094e4fff65",
            "80e544ae95184e6aba8430f608d35f4a",
            "c0976e1d10ac4328a28e85da7f319de2",
            "a3b865f448254fedad2f1c08f4038ae5",
            "7897df3dfd014af782e6cc591f9cd8c0",
            "514285525d0b4f52924f9cbf06f6ef9f",
            "f8f9c711447447e8b13061be50bf4cbe",
            "781c5f6eac144774a3edf2072b796031",
            "7e58dc0cce434e638a835430ed47cf12",
            "48d363794e9a45ceb8d6fa5fe1a2cdaf",
            "b41daeebbb7546c6986db5ceb7ed3fe5"
          ]
        },
        "id": "09V8Pz2ETN9n",
        "outputId": "ac082e44-e8b4-49c6-9691-aaac0248d6a0"
      },
      "outputs": [
        {
          "output_type": "display_data",
          "data": {
            "text/plain": [
              "model.safetensors:   0%|          | 0.00/892M [00:00<?, ?B/s]"
            ],
            "application/vnd.jupyter.widget-view+json": {
              "version_major": 2,
              "version_minor": 0,
              "model_id": "208c94eade1644a582bae703aabb495c"
            }
          },
          "metadata": {}
        },
        {
          "output_type": "display_data",
          "data": {
            "text/plain": [
              "generation_config.json:   0%|          | 0.00/147 [00:00<?, ?B/s]"
            ],
            "application/vnd.jupyter.widget-view+json": {
              "version_major": 2,
              "version_minor": 0,
              "model_id": "820449386d43425e952aa6094e4fff65"
            }
          },
          "metadata": {}
        },
        {
          "output_type": "stream",
          "name": "stdout",
          "text": [
            "<class 'transformers.models.t5.modeling_t5.T5ForConditionalGeneration'>\n"
          ]
        }
      ],
      "source": [
        "from transformers import AutoModelForSeq2SeqLM\n",
        "\n",
        "model = AutoModelForSeq2SeqLM.from_pretrained(model_name)\n",
        "# import from the transformer library\n",
        "# the model name is exaclty the same passed before for the tokenizer\n",
        "\n",
        "# TODO: print the type of the model\n",
        "print(type(model))\n"
      ]
    },
    {
      "cell_type": "markdown",
      "metadata": {
        "id": "CtudZelSTN9n"
      },
      "source": [
        "To better understand the model, we can take a look at the model's configuration. The configuration contains all the hyperparameters of the model. The configuration is available as a dictionary, and we can access the values by using the attribute notation.\n",
        "\n",
        "You can find the model's configuration object in the `config` attribute of the model. Or, if you only need the configuration, you can directly load it using the `AutoConfig` class.\n",
        "\n",
        "```python\n",
        "from transformers import AutoConfig\n",
        "\n",
        "config = AutoConfig.from_pretrained(model_name)\n",
        "```"
      ]
    },
    {
      "cell_type": "code",
      "execution_count": null,
      "metadata": {
        "colab": {
          "base_uri": "https://localhost:8080/"
        },
        "id": "saATU4rFTN9n",
        "outputId": "a3c04b4f-20a9-4c2f-fe55-db8d81230b4f"
      },
      "outputs": [
        {
          "output_type": "execute_result",
          "data": {
            "text/plain": [
              "T5Config {\n",
              "  \"architectures\": [\n",
              "    \"T5ForConditionalGeneration\"\n",
              "  ],\n",
              "  \"classifier_dropout\": 0.0,\n",
              "  \"d_ff\": 3072,\n",
              "  \"d_kv\": 64,\n",
              "  \"d_model\": 768,\n",
              "  \"decoder_start_token_id\": 0,\n",
              "  \"dense_act_fn\": \"relu\",\n",
              "  \"dropout_rate\": 0.1,\n",
              "  \"dtype\": \"float32\",\n",
              "  \"eos_token_id\": 1,\n",
              "  \"feed_forward_proj\": \"relu\",\n",
              "  \"initializer_factor\": 1.0,\n",
              "  \"is_encoder_decoder\": true,\n",
              "  \"is_gated_act\": false,\n",
              "  \"layer_norm_epsilon\": 1e-06,\n",
              "  \"model_type\": \"t5\",\n",
              "  \"n_positions\": 512,\n",
              "  \"num_decoder_layers\": 12,\n",
              "  \"num_heads\": 12,\n",
              "  \"num_layers\": 12,\n",
              "  \"output_past\": true,\n",
              "  \"pad_token_id\": 0,\n",
              "  \"relative_attention_max_distance\": 128,\n",
              "  \"relative_attention_num_buckets\": 32,\n",
              "  \"task_specific_params\": {\n",
              "    \"summarization\": {\n",
              "      \"early_stopping\": true,\n",
              "      \"length_penalty\": 2.0,\n",
              "      \"max_length\": 200,\n",
              "      \"min_length\": 30,\n",
              "      \"no_repeat_ngram_size\": 3,\n",
              "      \"num_beams\": 4,\n",
              "      \"prefix\": \"summarize: \"\n",
              "    },\n",
              "    \"translation_en_to_de\": {\n",
              "      \"early_stopping\": true,\n",
              "      \"max_length\": 300,\n",
              "      \"num_beams\": 4,\n",
              "      \"prefix\": \"translate English to German: \"\n",
              "    },\n",
              "    \"translation_en_to_fr\": {\n",
              "      \"early_stopping\": true,\n",
              "      \"max_length\": 300,\n",
              "      \"num_beams\": 4,\n",
              "      \"prefix\": \"translate English to French: \"\n",
              "    },\n",
              "    \"translation_en_to_ro\": {\n",
              "      \"early_stopping\": true,\n",
              "      \"max_length\": 300,\n",
              "      \"num_beams\": 4,\n",
              "      \"prefix\": \"translate English to Romanian: \"\n",
              "    }\n",
              "  },\n",
              "  \"transformers_version\": \"4.57.0\",\n",
              "  \"use_cache\": true,\n",
              "  \"vocab_size\": 32128\n",
              "}"
            ]
          },
          "metadata": {},
          "execution_count": 20
        }
      ],
      "source": [
        "model.config"
      ]
    },
    {
      "cell_type": "markdown",
      "metadata": {
        "id": "TnHZ4GWrTN9n"
      },
      "source": [
        "Lots of information going on here. We can just take a few key aspects:\n",
        "\n",
        "- `d_kv` = 64. This is the dimension of keys $d_k$ (so also queries) and values $d_v$ in the attention mechanism. It is common, to keep things simple, to use the same number of dimensions for keys, queries, and values (even though this is not strictly necessary).\n",
        "- `d_model` = 768. This is the dimension of the output of each transformer block.\n",
        "- `d_ff` = 3072. This is the dimension of the feedforward network in each transformer block. We will see that the feedforward network is composed of two linear layers with a ReLU activation in between (`d_model -> d_ff -> d_model`).\n",
        "- `num_layers` = 12. This is the number of transformer blocks in the model (both encoder and decoder).\n",
        "- `num_heads` = 12. This is the number of attention heads in the multi-head attention mechanism. Each head will produce a different representation of the input text, and the results will be concatenated together. Remember that the output of each attention head is concatenated. We have 12 heads, each producing a 64-dimensional output, so the final output will be 12 * 64 = 768-dimensional."
      ]
    },
    {
      "cell_type": "markdown",
      "metadata": {
        "id": "mwDEsaC8TN9o"
      },
      "source": [
        "We can now inspect the model to better understand its architecture."
      ]
    },
    {
      "cell_type": "code",
      "execution_count": null,
      "metadata": {
        "colab": {
          "base_uri": "https://localhost:8080/"
        },
        "id": "qQNQIwflTN9o",
        "outputId": "c9b339e9-bb66-4b24-d843-bdb990b88dbb"
      },
      "outputs": [
        {
          "output_type": "execute_result",
          "data": {
            "text/plain": [
              "T5ForConditionalGeneration(\n",
              "  (shared): Embedding(32128, 768)\n",
              "  (encoder): T5Stack(\n",
              "    (embed_tokens): Embedding(32128, 768)\n",
              "    (block): ModuleList(\n",
              "      (0): T5Block(\n",
              "        (layer): ModuleList(\n",
              "          (0): T5LayerSelfAttention(\n",
              "            (SelfAttention): T5Attention(\n",
              "              (q): Linear(in_features=768, out_features=768, bias=False)\n",
              "              (k): Linear(in_features=768, out_features=768, bias=False)\n",
              "              (v): Linear(in_features=768, out_features=768, bias=False)\n",
              "              (o): Linear(in_features=768, out_features=768, bias=False)\n",
              "              (relative_attention_bias): Embedding(32, 12)\n",
              "            )\n",
              "            (layer_norm): T5LayerNorm()\n",
              "            (dropout): Dropout(p=0.1, inplace=False)\n",
              "          )\n",
              "          (1): T5LayerFF(\n",
              "            (DenseReluDense): T5DenseActDense(\n",
              "              (wi): Linear(in_features=768, out_features=3072, bias=False)\n",
              "              (wo): Linear(in_features=3072, out_features=768, bias=False)\n",
              "              (dropout): Dropout(p=0.1, inplace=False)\n",
              "              (act): ReLU()\n",
              "            )\n",
              "            (layer_norm): T5LayerNorm()\n",
              "            (dropout): Dropout(p=0.1, inplace=False)\n",
              "          )\n",
              "        )\n",
              "      )\n",
              "      (1-11): 11 x T5Block(\n",
              "        (layer): ModuleList(\n",
              "          (0): T5LayerSelfAttention(\n",
              "            (SelfAttention): T5Attention(\n",
              "              (q): Linear(in_features=768, out_features=768, bias=False)\n",
              "              (k): Linear(in_features=768, out_features=768, bias=False)\n",
              "              (v): Linear(in_features=768, out_features=768, bias=False)\n",
              "              (o): Linear(in_features=768, out_features=768, bias=False)\n",
              "            )\n",
              "            (layer_norm): T5LayerNorm()\n",
              "            (dropout): Dropout(p=0.1, inplace=False)\n",
              "          )\n",
              "          (1): T5LayerFF(\n",
              "            (DenseReluDense): T5DenseActDense(\n",
              "              (wi): Linear(in_features=768, out_features=3072, bias=False)\n",
              "              (wo): Linear(in_features=3072, out_features=768, bias=False)\n",
              "              (dropout): Dropout(p=0.1, inplace=False)\n",
              "              (act): ReLU()\n",
              "            )\n",
              "            (layer_norm): T5LayerNorm()\n",
              "            (dropout): Dropout(p=0.1, inplace=False)\n",
              "          )\n",
              "        )\n",
              "      )\n",
              "    )\n",
              "    (final_layer_norm): T5LayerNorm()\n",
              "    (dropout): Dropout(p=0.1, inplace=False)\n",
              "  )\n",
              "  (decoder): T5Stack(\n",
              "    (embed_tokens): Embedding(32128, 768)\n",
              "    (block): ModuleList(\n",
              "      (0): T5Block(\n",
              "        (layer): ModuleList(\n",
              "          (0): T5LayerSelfAttention(\n",
              "            (SelfAttention): T5Attention(\n",
              "              (q): Linear(in_features=768, out_features=768, bias=False)\n",
              "              (k): Linear(in_features=768, out_features=768, bias=False)\n",
              "              (v): Linear(in_features=768, out_features=768, bias=False)\n",
              "              (o): Linear(in_features=768, out_features=768, bias=False)\n",
              "              (relative_attention_bias): Embedding(32, 12)\n",
              "            )\n",
              "            (layer_norm): T5LayerNorm()\n",
              "            (dropout): Dropout(p=0.1, inplace=False)\n",
              "          )\n",
              "          (1): T5LayerCrossAttention(\n",
              "            (EncDecAttention): T5Attention(\n",
              "              (q): Linear(in_features=768, out_features=768, bias=False)\n",
              "              (k): Linear(in_features=768, out_features=768, bias=False)\n",
              "              (v): Linear(in_features=768, out_features=768, bias=False)\n",
              "              (o): Linear(in_features=768, out_features=768, bias=False)\n",
              "            )\n",
              "            (layer_norm): T5LayerNorm()\n",
              "            (dropout): Dropout(p=0.1, inplace=False)\n",
              "          )\n",
              "          (2): T5LayerFF(\n",
              "            (DenseReluDense): T5DenseActDense(\n",
              "              (wi): Linear(in_features=768, out_features=3072, bias=False)\n",
              "              (wo): Linear(in_features=3072, out_features=768, bias=False)\n",
              "              (dropout): Dropout(p=0.1, inplace=False)\n",
              "              (act): ReLU()\n",
              "            )\n",
              "            (layer_norm): T5LayerNorm()\n",
              "            (dropout): Dropout(p=0.1, inplace=False)\n",
              "          )\n",
              "        )\n",
              "      )\n",
              "      (1-11): 11 x T5Block(\n",
              "        (layer): ModuleList(\n",
              "          (0): T5LayerSelfAttention(\n",
              "            (SelfAttention): T5Attention(\n",
              "              (q): Linear(in_features=768, out_features=768, bias=False)\n",
              "              (k): Linear(in_features=768, out_features=768, bias=False)\n",
              "              (v): Linear(in_features=768, out_features=768, bias=False)\n",
              "              (o): Linear(in_features=768, out_features=768, bias=False)\n",
              "            )\n",
              "            (layer_norm): T5LayerNorm()\n",
              "            (dropout): Dropout(p=0.1, inplace=False)\n",
              "          )\n",
              "          (1): T5LayerCrossAttention(\n",
              "            (EncDecAttention): T5Attention(\n",
              "              (q): Linear(in_features=768, out_features=768, bias=False)\n",
              "              (k): Linear(in_features=768, out_features=768, bias=False)\n",
              "              (v): Linear(in_features=768, out_features=768, bias=False)\n",
              "              (o): Linear(in_features=768, out_features=768, bias=False)\n",
              "            )\n",
              "            (layer_norm): T5LayerNorm()\n",
              "            (dropout): Dropout(p=0.1, inplace=False)\n",
              "          )\n",
              "          (2): T5LayerFF(\n",
              "            (DenseReluDense): T5DenseActDense(\n",
              "              (wi): Linear(in_features=768, out_features=3072, bias=False)\n",
              "              (wo): Linear(in_features=3072, out_features=768, bias=False)\n",
              "              (dropout): Dropout(p=0.1, inplace=False)\n",
              "              (act): ReLU()\n",
              "            )\n",
              "            (layer_norm): T5LayerNorm()\n",
              "            (dropout): Dropout(p=0.1, inplace=False)\n",
              "          )\n",
              "        )\n",
              "      )\n",
              "    )\n",
              "    (final_layer_norm): T5LayerNorm()\n",
              "    (dropout): Dropout(p=0.1, inplace=False)\n",
              "  )\n",
              "  (lm_head): Linear(in_features=768, out_features=32128, bias=False)\n",
              ")"
            ]
          },
          "metadata": {},
          "execution_count": 21
        }
      ],
      "source": [
        "model"
      ]
    },
    {
      "cell_type": "markdown",
      "metadata": {
        "id": "tDsbxSGuTN9o"
      },
      "source": [
        "We see that the model has a `shared` Embedding layer, an `encoder` and a `decoder`, and a final `lm_head`.\n",
        "\n",
        "We can look into the token embedding first.\n"
      ]
    },
    {
      "cell_type": "markdown",
      "metadata": {
        "id": "varyGekJTN9o"
      },
      "source": [
        "### Tokens embedding\n"
      ]
    },
    {
      "cell_type": "code",
      "execution_count": null,
      "metadata": {
        "colab": {
          "base_uri": "https://localhost:8080/"
        },
        "id": "-JoBKI9UTN9o",
        "outputId": "33977620-fe01-4850-e21e-361a9b471dfb"
      },
      "outputs": [
        {
          "output_type": "execute_result",
          "data": {
            "text/plain": [
              "Embedding(32128, 768)"
            ]
          },
          "metadata": {},
          "execution_count": 22
        }
      ],
      "source": [
        "model.shared"
      ]
    },
    {
      "cell_type": "markdown",
      "metadata": {
        "id": "15eSN0OiTN9o"
      },
      "source": [
        "First, we can verify that this `shared` embedding layer, as the name suggests, is shared between the encoder and the decoder.\n",
        "\n",
        "We do so by checking the id of the embedding layer with the embedding layers found in the encoder and decoder (`model.encoder.embed_tokens` and `model.decoder.embed_tokens`)."
      ]
    },
    {
      "cell_type": "code",
      "execution_count": null,
      "metadata": {
        "colab": {
          "base_uri": "https://localhost:8080/"
        },
        "id": "jXLZbB_kTN9o",
        "outputId": "b57cbdad-5e0b-419d-d3d9-e49ab51ba264"
      },
      "outputs": [
        {
          "output_type": "execute_result",
          "data": {
            "text/plain": [
              "True"
            ]
          },
          "metadata": {},
          "execution_count": 23
        }
      ],
      "source": [
        "id(model.shared) == id(model.encoder.embed_tokens) and id(model.shared) == id(model.decoder.embed_tokens)"
      ]
    },
    {
      "cell_type": "markdown",
      "metadata": {
        "id": "G55Rln8QTN9o"
      },
      "source": [
        "Next, we note that the embedding layer has 32128 tokens.\n",
        "\n",
        "This is not exactly the number of tokens we saw before (32100). The extra 28 tokens are \"leftovers\". 32128 = 251 * 128 is a more \"GPU friendly\" number, and it's used to speed up the computation (same reason why we often see batch sizes that are powers of 2)."
      ]
    },
    {
      "cell_type": "code",
      "execution_count": null,
      "metadata": {
        "id": "0cPTmffCTN9o"
      },
      "outputs": [],
      "source": [
        "words = [\n",
        "    \"chair\",\n",
        "    \"table\",\n",
        "    \"plate\",\n",
        "    \"knife\",\n",
        "    \"spoon\",\n",
        "    \"horse\",\n",
        "    \"goat\",\n",
        "    \"sheep\",\n",
        "    \"cat\",\n",
        "    \"dog\",\n",
        "]"
      ]
    },
    {
      "cell_type": "code",
      "execution_count": null,
      "metadata": {
        "colab": {
          "base_uri": "https://localhost:8080/"
        },
        "id": "doEwNljGTN9o",
        "outputId": "66fd3908-5d06-4e90-c447-650dee51cf00"
      },
      "outputs": [
        {
          "output_type": "stream",
          "name": "stdout",
          "text": [
            "tensor([ 3533,   953,  3829, 10821, 14987,  4952, 18174, 15184,  1712,  1782])\n",
            "(10, 768)\n"
          ]
        }
      ],
      "source": [
        "word_tokens = tokenizer(words, return_tensors=\"pt\", padding=True)[\"input_ids\"][:, 0]\n",
        "print(word_tokens)\n",
        "token_embeddings = model.shared(word_tokens).cpu().detach().numpy()\n",
        "print(token_embeddings.shape)"
      ]
    },
    {
      "cell_type": "code",
      "execution_count": null,
      "metadata": {
        "colab": {
          "base_uri": "https://localhost:8080/",
          "height": 445
        },
        "id": "mru_MnpHTN9o",
        "outputId": "20309afa-e491-40cf-aeb2-9159a5fc7761"
      },
      "outputs": [
        {
          "output_type": "display_data",
          "data": {
            "text/plain": [
              "<Figure size 500x500 with 1 Axes>"
            ],
            "image/png": "[encoded data removed]"
          },
          "metadata": {}
        }
      ],
      "source": [
        "from sklearn.decomposition import PCA\n",
        "import matplotlib.pyplot as plt\n",
        "\n",
        "pca = PCA(n_components=2)\n",
        "X_pca = pca.fit_transform(token_embeddings)\n",
        "\n",
        "fig, ax = plt.subplots(figsize=(5,5))\n",
        "ax.scatter(X_pca[:, 0], X_pca[:, 1])\n",
        "for i, word in enumerate(words):\n",
        "    ax.text(X_pca[i, 0]+5, X_pca[i, 1]+5, word)"
      ]
    },
    {
      "cell_type": "code",
      "execution_count": null,
      "metadata": {
        "colab": {
          "base_uri": "https://localhost:8080/",
          "height": 441
        },
        "id": "DfaTlWKTTN9p",
        "outputId": "63d488e8-d93f-40d7-feae-da86b9df9947"
      },
      "outputs": [
        {
          "output_type": "display_data",
          "data": {
            "text/plain": [
              "<Figure size 500x500 with 2 Axes>"
            ],
            "image/png": "[encoded data removed]"
          },
          "metadata": {}
        }
      ],
      "source": [
        "from sklearn.metrics.pairwise import cosine_similarity\n",
        "\n",
        "cosine_similarity(token_embeddings)\n",
        "fig, ax = plt.subplots(figsize=(5,5))\n",
        "cax = ax.imshow(cosine_similarity(token_embeddings), cmap=\"coolwarm\")\n",
        "fig.colorbar(cax)\n",
        "plt.xticks(range(len(words)), words, rotation=90)\n",
        "plt.yticks(range(len(words)), words);"
      ]
    },
    {
      "cell_type": "markdown",
      "metadata": {
        "id": "Urx2Dt-WTN9p"
      },
      "source": [
        "### Encoder\n"
      ]
    },
    {
      "cell_type": "markdown",
      "metadata": {
        "id": "tHe8r9tKTN9p"
      },
      "source": [
        "The model's encoder contains various transformer layers (each one attention, feed-forward, and normalization layers)."
      ]
    },
    {
      "cell_type": "code",
      "execution_count": null,
      "metadata": {
        "colab": {
          "base_uri": "https://localhost:8080/"
        },
        "id": "TFaGGJwZTN9p",
        "outputId": "d131ac23-0fdd-44d4-c514-4fda9e65c386"
      },
      "outputs": [
        {
          "output_type": "execute_result",
          "data": {
            "text/plain": [
              "T5Stack(\n",
              "  (embed_tokens): Embedding(32128, 768)\n",
              "  (block): ModuleList(\n",
              "    (0): T5Block(\n",
              "      (layer): ModuleList(\n",
              "        (0): T5LayerSelfAttention(\n",
              "          (SelfAttention): T5Attention(\n",
              "            (q): Linear(in_features=768, out_features=768, bias=False)\n",
              "            (k): Linear(in_features=768, out_features=768, bias=False)\n",
              "            (v): Linear(in_features=768, out_features=768, bias=False)\n",
              "            (o): Linear(in_features=768, out_features=768, bias=False)\n",
              "            (relative_attention_bias): Embedding(32, 12)\n",
              "          )\n",
              "          (layer_norm): T5LayerNorm()\n",
              "          (dropout): Dropout(p=0.1, inplace=False)\n",
              "        )\n",
              "        (1): T5LayerFF(\n",
              "          (DenseReluDense): T5DenseActDense(\n",
              "            (wi): Linear(in_features=768, out_features=3072, bias=False)\n",
              "            (wo): Linear(in_features=3072, out_features=768, bias=False)\n",
              "            (dropout): Dropout(p=0.1, inplace=False)\n",
              "            (act): ReLU()\n",
              "          )\n",
              "          (layer_norm): T5LayerNorm()\n",
              "          (dropout): Dropout(p=0.1, inplace=False)\n",
              "        )\n",
              "      )\n",
              "    )\n",
              "    (1-11): 11 x T5Block(\n",
              "      (layer): ModuleList(\n",
              "        (0): T5LayerSelfAttention(\n",
              "          (SelfAttention): T5Attention(\n",
              "            (q): Linear(in_features=768, out_features=768, bias=False)\n",
              "            (k): Linear(in_features=768, out_features=768, bias=False)\n",
              "            (v): Linear(in_features=768, out_features=768, bias=False)\n",
              "            (o): Linear(in_features=768, out_features=768, bias=False)\n",
              "          )\n",
              "          (layer_norm): T5LayerNorm()\n",
              "          (dropout): Dropout(p=0.1, inplace=False)\n",
              "        )\n",
              "        (1): T5LayerFF(\n",
              "          (DenseReluDense): T5DenseActDense(\n",
              "            (wi): Linear(in_features=768, out_features=3072, bias=False)\n",
              "            (wo): Linear(in_features=3072, out_features=768, bias=False)\n",
              "            (dropout): Dropout(p=0.1, inplace=False)\n",
              "            (act): ReLU()\n",
              "          )\n",
              "          (layer_norm): T5LayerNorm()\n",
              "          (dropout): Dropout(p=0.1, inplace=False)\n",
              "        )\n",
              "      )\n",
              "    )\n",
              "  )\n",
              "  (final_layer_norm): T5LayerNorm()\n",
              "  (dropout): Dropout(p=0.1, inplace=False)\n",
              ")"
            ]
          },
          "metadata": {},
          "execution_count": 28
        }
      ],
      "source": [
        "model.encoder"
      ]
    },
    {
      "cell_type": "markdown",
      "metadata": {
        "id": "emtZviHqTN9p"
      },
      "source": [
        "The `block` attribute is a list of `T5Block` modules, and contains the actual transformer layers. Indeed, we can check (as previously stated) that we have 12 encoder layers in the encoder."
      ]
    },
    {
      "cell_type": "code",
      "execution_count": null,
      "metadata": {
        "colab": {
          "base_uri": "https://localhost:8080/"
        },
        "id": "m9NJSJNITN9p",
        "outputId": "6b4d5ef9-794b-455e-ea3f-702e30e26266"
      },
      "outputs": [
        {
          "output_type": "execute_result",
          "data": {
            "text/plain": [
              "12"
            ]
          },
          "metadata": {},
          "execution_count": 29
        }
      ],
      "source": [
        "len(model.encoder.block)"
      ]
    },
    {
      "cell_type": "markdown",
      "metadata": {
        "id": "jps1qDJfTN9p"
      },
      "source": [
        "Each of the modules inside of the `block` is composed of a `T5LayerSelfAttention` module (attention layer), followed by a `T5LayerFF` module (feed-forward layer).\n",
        "\n",
        "Remember that there are some other details (e.g., normalization layers, or dropouts) that are shown below, but we will not discuss them in detail here.\n",
        "\n",
        "As a reminder, this is the architecture of a single encoder block.\n",
        "\n",
        "![encoder.png](https://github.com/GameRule17/llm-labs-polito-notebooks/blob/main/lab02/images/encoder.png?raw=1)"
      ]
    },
    {
      "cell_type": "code",
      "execution_count": null,
      "metadata": {
        "colab": {
          "base_uri": "https://localhost:8080/"
        },
        "id": "KEWkgKWRTN9p",
        "outputId": "b046f07b-9d07-439d-c829-0bb023629f45"
      },
      "outputs": [
        {
          "output_type": "execute_result",
          "data": {
            "text/plain": [
              "T5Block(\n",
              "  (layer): ModuleList(\n",
              "    (0): T5LayerSelfAttention(\n",
              "      (SelfAttention): T5Attention(\n",
              "        (q): Linear(in_features=768, out_features=768, bias=False)\n",
              "        (k): Linear(in_features=768, out_features=768, bias=False)\n",
              "        (v): Linear(in_features=768, out_features=768, bias=False)\n",
              "        (o): Linear(in_features=768, out_features=768, bias=False)\n",
              "        (relative_attention_bias): Embedding(32, 12)\n",
              "      )\n",
              "      (layer_norm): T5LayerNorm()\n",
              "      (dropout): Dropout(p=0.1, inplace=False)\n",
              "    )\n",
              "    (1): T5LayerFF(\n",
              "      (DenseReluDense): T5DenseActDense(\n",
              "        (wi): Linear(in_features=768, out_features=3072, bias=False)\n",
              "        (wo): Linear(in_features=3072, out_features=768, bias=False)\n",
              "        (dropout): Dropout(p=0.1, inplace=False)\n",
              "        (act): ReLU()\n",
              "      )\n",
              "      (layer_norm): T5LayerNorm()\n",
              "      (dropout): Dropout(p=0.1, inplace=False)\n",
              "    )\n",
              "  )\n",
              ")"
            ]
          },
          "metadata": {},
          "execution_count": 30
        }
      ],
      "source": [
        "model.encoder.block[0]"
      ]
    },
    {
      "cell_type": "markdown",
      "metadata": {
        "id": "qa2IHjb2TN9p"
      },
      "source": [
        "Notice that the $W_q$, $W_k$, and $W_v$ matrices are 768x768. But, we stated that each attention is 64-dimensional, so they should be 768x64!\n",
        "\n",
        "However, remember that we have 12 heads: instead of producing 12 different heads, we instead efficiently represent all matrices inside of a single matrix. In addition, there is no need for concatenating the results: the output will already be the concatenation of all heads.\n",
        "\n",
        "The $W_o$ matrix is 768x768, i.e. `d_kv`*`num_heads` x `d_model`, as expected."
      ]
    },
    {
      "cell_type": "markdown",
      "metadata": {
        "id": "AXX6yixVTN9p"
      },
      "source": [
        "### Decoder\n",
        "\n",
        "We can inspect the decoder in the same way. Remember the decoder's architecture!\n",
        "\n",
        "![decoder.png](https://github.com/GameRule17/llm-labs-polito-notebooks/blob/main/lab02/images/decoder.png?raw=1)"
      ]
    },
    {
      "cell_type": "code",
      "execution_count": null,
      "metadata": {
        "colab": {
          "base_uri": "https://localhost:8080/"
        },
        "id": "GphZqIiUTN9p",
        "outputId": "6d6ecb86-d605-4d46-fd8c-ba1e9ae8d196"
      },
      "outputs": [
        {
          "output_type": "execute_result",
          "data": {
            "text/plain": [
              "T5Block(\n",
              "  (layer): ModuleList(\n",
              "    (0): T5LayerSelfAttention(\n",
              "      (SelfAttention): T5Attention(\n",
              "        (q): Linear(in_features=768, out_features=768, bias=False)\n",
              "        (k): Linear(in_features=768, out_features=768, bias=False)\n",
              "        (v): Linear(in_features=768, out_features=768, bias=False)\n",
              "        (o): Linear(in_features=768, out_features=768, bias=False)\n",
              "        (relative_attention_bias): Embedding(32, 12)\n",
              "      )\n",
              "      (layer_norm): T5LayerNorm()\n",
              "      (dropout): Dropout(p=0.1, inplace=False)\n",
              "    )\n",
              "    (1): T5LayerCrossAttention(\n",
              "      (EncDecAttention): T5Attention(\n",
              "        (q): Linear(in_features=768, out_features=768, bias=False)\n",
              "        (k): Linear(in_features=768, out_features=768, bias=False)\n",
              "        (v): Linear(in_features=768, out_features=768, bias=False)\n",
              "        (o): Linear(in_features=768, out_features=768, bias=False)\n",
              "      )\n",
              "      (layer_norm): T5LayerNorm()\n",
              "      (dropout): Dropout(p=0.1, inplace=False)\n",
              "    )\n",
              "    (2): T5LayerFF(\n",
              "      (DenseReluDense): T5DenseActDense(\n",
              "        (wi): Linear(in_features=768, out_features=3072, bias=False)\n",
              "        (wo): Linear(in_features=3072, out_features=768, bias=False)\n",
              "        (dropout): Dropout(p=0.1, inplace=False)\n",
              "        (act): ReLU()\n",
              "      )\n",
              "      (layer_norm): T5LayerNorm()\n",
              "      (dropout): Dropout(p=0.1, inplace=False)\n",
              "    )\n",
              "  )\n",
              ")"
            ]
          },
          "metadata": {},
          "execution_count": 31
        }
      ],
      "source": [
        "model.decoder.block[0]"
      ]
    },
    {
      "cell_type": "markdown",
      "metadata": {
        "id": "MA2jbUBPTN9q"
      },
      "source": [
        "Indeed, we find the expected architecture.\n",
        "\n",
        "An initial self-attention module, followed by a multi-head attention one (`T5LayerCrossAttention`), and finally a feed-forward module.\n",
        "\n",
        "Note that, although there is a dedicated class for cross-attention, the module still makes use of the same `T5Attention` class we also used for self-attention. This is because nothing changes in the attention mechanism itself: only the inputs are different."
      ]
    },
    {
      "cell_type": "markdown",
      "metadata": {
        "id": "dCEA6CUjTN9q"
      },
      "source": [
        "Finally, note that the model's `lm_head` is a linear layer that takes the output of the decoder (768-dimensional) and maps it to the vocabulary size (32128)."
      ]
    },
    {
      "cell_type": "code",
      "execution_count": null,
      "metadata": {
        "colab": {
          "base_uri": "https://localhost:8080/"
        },
        "id": "Eu_IGDmSTN9q",
        "outputId": "ca70c465-c907-44e6-a357-6d987c483122"
      },
      "outputs": [
        {
          "output_type": "execute_result",
          "data": {
            "text/plain": [
              "Linear(in_features=768, out_features=32128, bias=False)"
            ]
          },
          "metadata": {},
          "execution_count": 32
        }
      ],
      "source": [
        "model.lm_head\n",
        "# in the next token that we should generate"
      ]
    },
    {
      "cell_type": "markdown",
      "metadata": {
        "id": "eHH_sByjTN9q"
      },
      "source": [
        "## Token generation\n",
        "\n",
        "Let's now focus on the token generation process.\n",
        "\n",
        "Remember, we are working with an encoder-decoder architecture. The encoder processes the input text, and the decoder generates the output text.\n",
        "\n",
        "The input for the encoder is the tokenized input text. We also need to specify an input for the decoder. The decoder's input will be the currently generated sequence thus far. For the first iteration, there is nothing already generated, so we need to specify a special token to indicate the beginning of the sequence (BOS). For T5, the token will be `<pad_token>`."
      ]
    },
    {
      "cell_type": "code",
      "execution_count": null,
      "metadata": {
        "id": "w9XIysH0TN9q"
      },
      "outputs": [],
      "source": [
        "import torch\n",
        "\n",
        "input_sentence = \"translate english to german: hello, how are you?\"\n",
        "\n",
        "#TODO: use the tokenizer to tokenize the input sentence as a tensor\n",
        "tokens = tokenizer(input_sentence, return_tensors=\"pt\")\n",
        "\n",
        "# input of our decoder, at the beginning something empty\n",
        "decoder_input_ids = torch.tensor([[ tokenizer.pad_token_id ]])"
      ]
    },
    {
      "cell_type": "code",
      "execution_count": null,
      "metadata": {
        "colab": {
          "base_uri": "https://localhost:8080/"
        },
        "id": "GGz6M3aYTN9q",
        "outputId": "8de5731a-cb75-49e8-a30e-2c50dfbd72a6"
      },
      "outputs": [
        {
          "output_type": "stream",
          "name": "stdout",
          "text": [
            "Encoder's input\n",
            "tensor([[13959, 22269,    12, 13692,    10, 21820,     6,   149,    33,    25,\n",
            "            58,     1]])\n",
            "\n",
            "Decoder's input\n",
            "tensor([[0]])\n"
          ]
        }
      ],
      "source": [
        "print(\"Encoder's input\")\n",
        "print(tokens[\"input_ids\"])\n",
        "\n",
        "print()\n",
        "print(\"Decoder's input\")\n",
        "print(decoder_input_ids)"
      ]
    },
    {
      "cell_type": "markdown",
      "metadata": {
        "id": "E9E7_8KVTN9q"
      },
      "source": [
        "To generate the first output token (after `<pad_token>`), we call the model's __call__ method (or `forward` method) with the input text and the decoder's input."
      ]
    },
    {
      "cell_type": "code",
      "source": [
        "tokens"
      ],
      "metadata": {
        "colab": {
          "base_uri": "https://localhost:8080/"
        },
        "id": "iDwEBMQefL8U",
        "outputId": "cb066c14-730d-4a9a-c73c-f9e064841a30"
      },
      "execution_count": null,
      "outputs": [
        {
          "output_type": "execute_result",
          "data": {
            "text/plain": [
              "{'input_ids': tensor([[13959, 22269,    12, 13692,    10, 21820,     6,   149,    33,    25,\n",
              "            58,     1]]), 'attention_mask': tensor([[1, 1, 1, 1, 1, 1, 1, 1, 1, 1, 1, 1]])}"
            ]
          },
          "metadata": {},
          "execution_count": 36
        }
      ]
    },
    {
      "cell_type": "code",
      "execution_count": null,
      "metadata": {
        "colab": {
          "base_uri": "https://localhost:8080/"
        },
        "id": "V71Vg7WbTN9q",
        "outputId": "36009095-b824-4f14-e3de-bd4d6d087af9"
      },
      "outputs": [
        {
          "output_type": "stream",
          "name": "stdout",
          "text": [
            "odict_keys(['logits', 'past_key_values', 'encoder_last_hidden_state'])\n"
          ]
        }
      ],
      "source": [
        "# **tokens passes the dictionary as keyword arguments (input_ids=..., attention_mask=...)\n",
        "output = model(**tokens, decoder_input_ids=decoder_input_ids)\n",
        "print(output.keys())\n",
        "# 3 different things"
      ]
    },
    {
      "cell_type": "markdown",
      "metadata": {
        "id": "9UktX_w6TN9q"
      },
      "source": [
        "We get three outputs:\n",
        "\n",
        "- `logits`: The logits for each token in the vocabulary. The logits are the output of the linear layer (the `lm_head`) that maps the decoder's output to the vocabulary size. The logits are used to compute the probabilities of each token.\n",
        "\n",
        "- `past_key_values`: The past key-values of the decoder. This is used to speed up the generation process for future tokens. Remember: the decoder is autoregressive, so we generate one token at a time. Since each token can only pay attention to past tokens, it means that the predictions made for earlier tokens will not change. Thus, we can cache them and not re-compute them. So, if we pas `past_key_values` to the model the next time we call it, it will be faster.\n",
        "\n",
        "- `encoder_last_hidden_state`: The hidden states of the last layer of the encoder. This is not used for generating the next token, but we may find it useful for other tasks (e.g., summarization)."
      ]
    },
    {
      "cell_type": "code",
      "source": [
        "output['logits']"
      ],
      "metadata": {
        "id": "Hc7SjFIOfa6-",
        "outputId": "1c22e50d-af25-41ef-f3d3-1bbcaa35b424",
        "colab": {
          "base_uri": "https://localhost:8080/"
        }
      },
      "execution_count": null,
      "outputs": [
        {
          "output_type": "execute_result",
          "data": {
            "text/plain": [
              "tensor([[[-20.4737,  -9.7094, -15.2374,  ..., -40.6805, -40.5435, -40.5263]]],\n",
              "       grad_fn=<UnsafeViewBackward0>)"
            ]
          },
          "metadata": {},
          "execution_count": 38
        }
      ]
    },
    {
      "cell_type": "code",
      "execution_count": null,
      "metadata": {
        "colab": {
          "base_uri": "https://localhost:8080/"
        },
        "id": "axp4ybv-TN9q",
        "outputId": "e6d60200-13c9-4091-946f-96086ae80684"
      },
      "outputs": [
        {
          "output_type": "stream",
          "name": "stdout",
          "text": [
            "torch.Size([1, 1, 32128])\n"
          ]
        }
      ],
      "source": [
        "print(output.logits.shape)"
      ]
    },
    {
      "cell_type": "code",
      "source": [
        "output.past_key_values[0]"
      ],
      "metadata": {
        "id": "yN4RlQnGfzmZ",
        "outputId": "85cee887-e0b3-4dda-a8be-0713d0a2eab1",
        "colab": {
          "base_uri": "https://localhost:8080/"
        }
      },
      "execution_count": null,
      "outputs": [
        {
          "output_type": "execute_result",
          "data": {
            "text/plain": [
              "(tensor([[[[ 8.0751e-01,  5.9590e-01, -4.6880e-01,  4.9266e-01,  1.1197e+00,\n",
              "            -1.2452e+00, -9.0581e-01, -5.2789e-01,  3.6213e-01,  3.6954e-01,\n",
              "            -4.3455e-02, -8.5433e-01, -6.6289e-01, -4.9530e-02,  5.1809e-01,\n",
              "            -8.5448e-01, -4.5317e-01,  5.9210e-01, -2.5630e-01,  9.7839e-04,\n",
              "            -5.9754e-01, -1.8106e+00, -1.5930e+00,  5.2041e-01, -3.8632e-01,\n",
              "             4.0855e-01,  1.7834e+00,  4.0360e-01, -1.1653e+00, -5.5640e-01,\n",
              "            -5.5420e-01,  4.8449e-01, -5.6703e-01,  4.0686e-01, -1.3294e+00,\n",
              "            -4.6914e-01,  4.6921e-01, -3.6158e-01,  5.2256e-01, -3.2758e-01,\n",
              "             3.6369e-01, -1.1385e-01,  4.4046e-01, -1.8292e-01, -4.6193e-01,\n",
              "             2.3514e-02,  1.1758e-01, -5.2525e-01, -5.6002e-01, -7.8300e-01,\n",
              "             2.6148e-01, -2.4737e+00,  4.7007e-01, -2.6592e-01, -1.5485e+00,\n",
              "             3.2745e+00,  9.0812e-01,  7.0409e-01, -2.0156e-02, -8.3044e-02,\n",
              "             6.8403e-01, -7.7884e-01,  5.1766e-01, -3.4012e-01]],\n",
              " \n",
              "          [[-6.6438e-01,  2.5151e+00,  6.8428e-01,  4.4015e-01, -8.3518e-01,\n",
              "            -9.9665e-01,  2.8279e+00, -7.2212e-01, -1.0688e+00, -9.4019e-01,\n",
              "             2.7050e+00, -6.0149e-01, -1.4592e+00, -1.2582e+00, -4.9177e-01,\n",
              "             1.3218e+00, -8.9681e-01,  9.4169e-01, -1.2019e+00, -2.4484e+00,\n",
              "             6.8547e-01, -2.0507e+00,  1.0435e+00,  2.7931e-01,  3.2697e+00,\n",
              "            -3.2134e+00,  3.8625e+00,  1.2923e-01,  1.1023e+00,  6.3996e-01,\n",
              "            -3.6581e-01, -1.7155e-02,  1.1789e+00,  2.0449e+00,  3.4693e+00,\n",
              "            -2.3352e+00,  1.2630e-02,  1.0273e+00, -1.2626e+00, -2.2317e+00,\n",
              "             2.4374e+00,  7.9716e-01,  1.2864e+00, -2.5043e+00, -2.7001e+00,\n",
              "            -8.3859e-01,  7.8593e-01, -1.8879e-01, -3.4402e-01, -5.0461e-01,\n",
              "            -5.2435e-01,  1.2397e+00, -4.4922e-01,  9.8829e-01, -2.1489e+00,\n",
              "            -2.5911e+00,  1.3928e+00,  3.8486e-03,  2.0592e+00, -8.3416e-01,\n",
              "            -3.8336e-01, -1.4383e+00, -1.4259e+00,  1.1669e+00]],\n",
              " \n",
              "          [[ 3.9742e-01, -3.5315e+00,  1.1719e+00, -1.6182e+00,  8.7969e-01,\n",
              "             2.1931e+00, -2.1199e+00,  4.7292e-01,  3.0253e+00, -1.5700e+00,\n",
              "             2.1954e-01,  2.5871e+00,  2.2306e+00, -7.9655e-01, -3.9953e-01,\n",
              "            -2.9191e+00, -2.5449e+00, -3.6712e+00, -3.9486e+00,  1.6595e+00,\n",
              "            -2.1392e-01, -2.1536e-01, -2.2524e+00,  9.9000e-01, -8.9700e-01,\n",
              "            -1.2655e+00, -5.0634e-01,  4.6596e-01,  1.0823e+00, -7.5566e-01,\n",
              "             1.4327e+00, -4.7581e-01,  2.2824e+00,  6.7650e-01,  8.2387e-01,\n",
              "             3.9348e+00, -1.7866e+00,  3.5054e+00,  2.9925e+00, -9.7865e-01,\n",
              "            -3.1659e+00,  5.9384e-01, -3.4197e+00,  1.9262e+00, -2.1253e-01,\n",
              "            -2.2707e+00,  3.4668e-01, -1.3427e+00,  1.8556e+00, -2.1940e+00,\n",
              "             3.2545e+00, -1.2743e+00,  1.6327e+00, -1.3848e+00,  2.2545e-01,\n",
              "             2.5674e+00,  3.1222e+00,  5.4801e-01, -3.8870e+00,  2.1618e+00,\n",
              "             2.3690e+00, -1.1180e+00, -2.0904e+00, -2.4539e+00]],\n",
              " \n",
              "          [[ 5.0950e-01, -1.1539e-01, -4.1786e-01,  1.4453e-02, -1.2190e-01,\n",
              "            -3.5427e-01,  4.8045e-01, -2.0790e-01,  1.0690e-01,  7.2281e-01,\n",
              "             5.6891e-01,  5.6125e-02, -2.2433e-01, -1.7975e-01, -1.0087e-01,\n",
              "             3.4681e-01,  3.3604e-01,  5.7168e+00, -1.1532e-01, -3.5277e-01,\n",
              "             2.9852e-02, -1.4957e+00, -2.0898e-01, -1.3193e-01, -1.0764e+00,\n",
              "            -4.8846e-01, -7.1031e-01,  4.6251e-01,  2.7927e-01, -2.2378e-02,\n",
              "             1.8062e+00, -6.1509e-02, -8.8988e-02,  7.7264e-01,  2.1664e-01,\n",
              "            -4.4970e-01,  3.6892e-01,  6.0727e-01,  4.3108e-02,  3.1033e-01,\n",
              "            -1.1146e-01, -8.9333e-01,  3.4001e-01,  2.1367e-01,  1.2327e-01,\n",
              "            -7.6496e-02,  3.6363e-02, -4.8496e-01, -4.7512e-02, -1.6345e-01,\n",
              "            -3.4160e-01, -4.5084e-01, -2.4742e-01,  1.5852e+00, -5.2016e-01,\n",
              "             1.5665e-01, -1.6863e-01,  1.1154e-01,  4.4352e-01,  3.6107e-01,\n",
              "             5.1278e-02,  9.9771e-01,  2.1851e-01,  3.9310e-01]],\n",
              " \n",
              "          [[ 9.0783e-02, -5.2427e-01, -2.0909e+00, -1.5422e+00,  1.7570e-02,\n",
              "             1.1699e+00, -4.2711e-01, -9.8981e-02,  9.5342e-01,  3.3095e-01,\n",
              "            -4.7372e-01,  5.5016e-01,  1.6081e+00, -7.4873e-01, -4.9377e-01,\n",
              "            -1.2235e+00, -2.1559e+00,  1.6294e+00,  2.4981e+00, -1.5355e+00,\n",
              "            -8.9766e-01, -3.6694e+00, -1.1564e-01, -1.1093e+00,  3.8158e-01,\n",
              "            -1.6573e+00,  8.4503e-01,  8.3904e-01, -8.3633e-02,  1.5096e+00,\n",
              "            -9.2405e-01, -2.6137e-01, -5.2875e-01,  8.0454e-01,  2.6376e-01,\n",
              "             7.3573e-01, -4.6772e-01, -2.1155e-01, -4.6287e-01,  2.1210e-01,\n",
              "             9.4155e-01, -1.5052e+00, -2.0146e-01, -1.3228e-01,  5.7016e-01,\n",
              "            -4.6246e-01, -5.0075e-01, -7.6358e-02,  2.3014e-01, -1.2918e+00,\n",
              "             6.0679e-01,  7.8107e-02,  2.2665e+00,  2.1073e-01,  5.3913e-01,\n",
              "             6.9107e-01,  9.9660e-01, -1.5393e+00, -1.0782e+00,  4.1038e-01,\n",
              "             2.4894e+00, -2.1641e+00, -1.9685e+00, -1.8779e+00]],\n",
              " \n",
              "          [[ 2.8266e-01, -4.0253e-01,  2.1461e-01, -8.5459e-02, -8.8574e-02,\n",
              "             2.0529e-01, -4.9773e+00, -2.6139e-02, -2.5218e-01,  3.5628e-01,\n",
              "            -6.3628e-01,  3.6137e-01, -1.6117e-01, -2.0351e-01,  5.8478e-01,\n",
              "            -2.8578e-01, -2.5785e-01,  2.8788e-01,  1.2133e-01, -1.2644e+00,\n",
              "             1.2791e+00, -1.9451e-01,  4.4943e-01,  1.0352e-01,  3.2953e-01,\n",
              "            -6.6074e-01,  4.9375e-01, -1.6468e-02,  1.1274e-01,  4.0464e-01,\n",
              "            -1.8936e-02, -7.3703e-02, -2.3792e-01, -1.2765e-01,  1.6298e+00,\n",
              "             2.1280e-02, -2.8000e-01, -1.4488e-01, -1.7418e-01,  2.3482e-01,\n",
              "             1.9675e-01,  9.6946e-02, -2.2366e-01,  4.5381e-01, -2.7155e-01,\n",
              "             3.2703e-02, -2.7884e-01,  9.1267e-02,  2.4779e-02,  1.5141e-01,\n",
              "             1.4472e-01,  3.6377e-03, -9.2628e-02, -4.0295e+00, -1.4378e-01,\n",
              "             3.8275e-01, -3.2757e-02, -2.4571e-01, -2.8731e-01,  2.9902e-01,\n",
              "            -2.9039e-01,  1.1138e-01,  4.0494e-02, -3.3153e-01]],\n",
              " \n",
              "          [[ 7.6214e-01, -7.4628e-01, -9.6668e-01,  1.1067e+00,  1.1446e+00,\n",
              "            -9.4385e-01, -1.8795e+00, -9.3064e-01,  1.7300e+00, -1.4664e+00,\n",
              "            -2.3141e-01, -3.5233e+00, -4.5847e+00,  7.1642e-01,  7.4307e-01,\n",
              "            -5.2633e-01, -1.5345e+00,  2.0310e+00,  6.6826e+00,  1.1144e+00,\n",
              "            -1.8575e+00, -1.0726e+00,  6.4875e-01, -1.2714e+00, -7.5589e-01,\n",
              "            -1.0819e-02, -1.4056e+00, -7.1250e-02, -2.6511e+00, -2.2563e+00,\n",
              "            -2.1769e-01, -2.3009e+00, -9.8707e-01,  3.9883e-02, -2.3158e+00,\n",
              "             1.8638e-01,  5.1719e-01, -1.4830e+00, -4.6418e+00, -1.4803e+00,\n",
              "             5.2249e-02,  1.1654e+00, -2.2894e+00, -2.5954e-01,  1.5796e-01,\n",
              "             2.1164e+00, -1.5284e+00, -9.3902e-01,  1.0677e+00, -1.9075e+00,\n",
              "             1.7636e-01, -1.8908e-01,  1.2209e+00,  1.6150e+00,  3.7917e-01,\n",
              "            -6.4760e-01, -2.2319e+00,  7.3769e-01,  4.3802e+00, -1.2444e+00,\n",
              "            -2.1253e+00, -2.7476e+00,  6.3747e-01,  2.2082e+00]],\n",
              " \n",
              "          [[ 1.3045e+00,  6.8440e-01,  2.0830e-01, -5.6154e-02, -2.5631e-01,\n",
              "             4.5208e-02,  1.5704e+00,  1.6998e-01,  2.3718e-01, -7.4239e-01,\n",
              "             6.7178e-01, -1.0560e-02,  1.1381e+00,  1.2160e-01,  7.5119e-01,\n",
              "             2.1111e-01, -3.5777e-01,  7.2123e-01,  2.3249e-02,  3.1410e-02,\n",
              "            -4.3115e-01,  1.4348e-01,  2.0406e-01,  6.2697e-01, -8.2221e-01,\n",
              "             1.0803e+00,  3.1962e-01, -4.7729e-01, -2.4237e-01, -5.6162e-02,\n",
              "            -4.2656e+00, -3.1590e-01,  7.0341e-01, -5.4635e-01, -5.2035e-01,\n",
              "             2.0628e-01, -4.8932e-01,  1.6150e-01, -3.0999e-02,  6.5778e-01,\n",
              "            -3.0612e-01, -7.6944e-02, -1.1452e-01, -1.2565e-01, -3.5534e-01,\n",
              "            -1.8702e-02, -2.4255e-01, -2.2292e-01,  7.9682e-01,  1.7907e-01,\n",
              "            -2.7601e-01, -9.6524e-02, -7.6748e-01,  2.4381e-01,  1.6510e-01,\n",
              "             9.1589e-01,  3.1190e-01, -6.5590e-02, -6.8282e-01, -1.3295e-01,\n",
              "             4.1992e-01,  2.2115e-01,  2.9790e-01, -3.2787e-01]],\n",
              " \n",
              "          [[-3.2410e+00,  5.0518e-01,  3.6045e-01, -7.8662e-02, -5.4112e-01,\n",
              "             3.7795e-01,  4.6643e-01, -2.5400e-01,  2.0056e-01,  2.3854e-01,\n",
              "             3.3020e-01, -1.3828e+00,  5.4292e-01,  1.0491e+00,  9.9038e-01,\n",
              "             7.3971e-01,  1.0515e+00,  4.7411e-01, -9.2982e-02,  5.4541e-02,\n",
              "             8.8933e-01,  6.7825e+00,  7.3178e+00, -1.4407e+00,  2.3846e+00,\n",
              "             2.3838e-01, -3.3341e-01,  1.0003e+00,  6.5478e-02, -1.1081e+00,\n",
              "             2.1046e+00,  2.3697e-01,  2.8534e+00,  9.2585e-01, -4.8854e-01,\n",
              "             9.5412e-01,  6.2626e-01, -9.5322e-01, -3.2681e-01, -2.6051e-01,\n",
              "             1.7154e+00,  1.8847e+00,  5.1519e-01,  6.0730e-01,  3.4397e-01,\n",
              "             3.8271e-01, -4.5334e+00, -1.7938e+00,  4.4969e-01, -5.2151e-01,\n",
              "            -2.7214e-01, -2.6888e+00,  4.8625e-01,  1.0270e+00,  1.2723e+00,\n",
              "             4.1502e-01, -5.2000e-02,  7.6593e-01, -1.8545e-01, -4.4413e-01,\n",
              "            -2.6891e-01, -3.6429e-01, -1.8426e+00, -2.2105e-01]],\n",
              " \n",
              "          [[ 1.7477e+00,  8.0151e-01,  1.1603e+00, -4.3552e-01, -1.7682e+00,\n",
              "             7.7111e-01, -1.7022e+00, -5.1787e-01,  8.6628e-01,  4.6605e-02,\n",
              "            -2.9641e-01,  1.5568e+00, -5.3659e-01, -2.0689e-01,  1.7993e+00,\n",
              "             2.5183e+00,  1.2099e+00, -2.1709e+00,  7.9104e-01, -2.0796e-01,\n",
              "             8.5769e-01,  6.2331e-01, -1.8235e-01, -3.6646e-02, -5.2813e-01,\n",
              "             1.3521e+00, -2.0734e+00,  1.1725e+00,  8.7907e-02, -9.3943e-01,\n",
              "            -1.6128e+00,  2.4609e-01, -1.7574e+00,  4.5855e-01, -4.0243e-01,\n",
              "             2.1226e+00, -5.3734e-01, -5.6601e-01, -2.4444e-01, -7.6732e-01,\n",
              "            -1.3217e+00,  4.6525e-02, -2.5592e+00, -3.9319e-01,  1.2489e-02,\n",
              "            -6.4939e-01,  2.2698e-01,  1.8445e+00, -1.4952e+00,  5.6337e-01,\n",
              "             1.5649e+00, -5.3624e-01, -3.2328e-01,  4.1266e-01,  3.0715e-01,\n",
              "             3.4660e-01, -1.9704e+00, -7.0918e-01, -1.3628e+00, -1.2425e-01,\n",
              "            -4.2060e-01, -9.4223e-01, -1.2174e+00,  9.9721e-01]],\n",
              " \n",
              "          [[-2.3004e+00,  1.1520e-01, -2.6748e+00, -1.7856e-01, -7.5062e-01,\n",
              "            -2.1346e+00, -8.9667e-01, -9.5426e-01, -1.1695e+00, -1.7084e+00,\n",
              "            -6.0532e-01, -3.1650e-01,  3.4158e+00, -3.7582e-01, -9.7813e-01,\n",
              "            -1.0293e+00,  3.7865e-01, -5.9427e-01, -4.0819e-01, -3.2543e-02,\n",
              "            -2.6261e-01,  5.8526e-01, -2.0987e+00,  3.5395e-02,  5.3047e-01,\n",
              "             2.9342e-01, -2.2651e+00,  5.7264e-01, -3.5205e+00,  5.5058e-01,\n",
              "             8.1334e-01, -1.6410e+00, -3.3278e+00, -1.9863e+00, -1.1622e+00,\n",
              "            -9.8207e-01, -6.5927e-01,  6.7355e-01,  6.4456e-01,  1.4903e+00,\n",
              "             6.4345e-02, -1.4957e-01,  7.2424e-01,  1.2147e+00, -1.4314e+00,\n",
              "            -1.2498e+00, -1.7379e+00, -1.7312e+00,  1.3057e-01,  6.6908e-01,\n",
              "            -9.1935e-01,  1.8527e+00,  1.7652e+00, -6.2223e-01,  2.9162e-01,\n",
              "            -2.8171e-01,  1.1985e+00,  1.3022e+00, -1.1550e+00, -2.1856e+00,\n",
              "            -2.3852e-01, -1.1235e+00, -1.4995e+00, -3.5250e-01]],\n",
              " \n",
              "          [[-2.5186e+00,  1.1486e-01, -1.4743e+00,  2.9450e-01, -3.5930e-01,\n",
              "            -1.2206e-01,  9.9522e-01,  2.8087e+00, -5.0892e-01, -1.1018e+00,\n",
              "             1.4972e+00, -4.9256e+00, -1.1725e+00, -2.6221e+00,  3.0782e+00,\n",
              "             3.2935e-01, -7.4319e-01,  3.7398e-01, -1.4291e+00,  9.9068e-01,\n",
              "             5.5225e-01, -9.9546e-01,  7.4577e-01, -1.6923e+00,  1.5145e+00,\n",
              "             1.2164e+00,  3.6171e+00,  1.5088e+00, -2.2028e-01,  5.5169e-01,\n",
              "            -2.8239e+00,  1.2137e+00, -3.3123e+00,  2.1339e+00,  7.7547e-01,\n",
              "             1.7777e+00,  4.0198e+00, -1.9020e+00, -2.0366e+00,  1.4539e+00,\n",
              "            -1.8763e+00, -2.9492e+00,  1.3737e+00,  1.3740e+00,  1.7966e-02,\n",
              "             5.7966e-01,  2.4825e+00, -1.4572e-01, -7.6962e-01, -1.0327e+00,\n",
              "             9.0368e-01,  2.4004e+00, -4.4174e-01,  4.8741e-01,  2.6565e+00,\n",
              "            -3.9589e-02,  6.6115e-01,  1.4014e+00, -1.8060e+00,  2.7097e+00,\n",
              "             9.4462e-01,  6.7022e-02,  3.8745e+00, -9.3342e-01]]]],\n",
              "        grad_fn=<CatBackward0>),\n",
              " tensor([[[[ 8.0797e-02,  2.0074e-01,  2.4472e-01, -2.4325e-01,  1.8291e-01,\n",
              "            -4.8938e-02, -7.4334e-02,  8.1350e-01,  5.7112e-01, -1.1500e-01,\n",
              "             1.0180e+00,  3.0636e-01,  2.6027e-01, -1.0666e-01,  1.6973e-01,\n",
              "             4.1651e-01, -7.9239e-01, -1.9766e-01, -7.0111e-02, -8.3550e-02,\n",
              "            -2.6552e-01,  7.8436e-01,  5.5063e-01,  6.5712e-01,  1.0277e+00,\n",
              "             3.3380e-01, -1.2935e-01,  4.2086e-01,  5.8501e-01, -8.7604e-02,\n",
              "            -2.0922e-01, -6.4654e-01, -8.8600e-02, -3.8118e-01, -4.3837e-01,\n",
              "             9.7070e-01,  1.0664e-01,  2.9309e-01, -3.6307e-01,  2.0858e-02,\n",
              "            -3.0823e-01, -4.0209e-01, -8.5255e-02,  1.1139e-01, -7.0446e-01,\n",
              "            -4.5242e-01,  4.0139e-01, -8.4357e-01,  1.7323e-01,  3.4771e-01,\n",
              "            -2.0160e-01, -3.7030e-01,  4.9751e-01, -5.2509e-01,  5.8836e-01,\n",
              "            -5.3463e-02,  2.3889e-01, -4.4121e-01,  2.0628e-01, -1.1870e+00,\n",
              "            -1.4896e+00, -7.7283e-01, -2.0247e+00, -9.7007e-01]],\n",
              " \n",
              "          [[ 1.7627e-03, -1.9782e-02,  2.6943e-02,  7.7908e-02, -4.7563e-01,\n",
              "            -3.7441e-01, -2.1759e-01,  2.2998e-01, -1.0742e-01, -1.0645e-01,\n",
              "            -4.2435e-01,  1.9487e-01, -8.4524e-02, -1.4350e-01, -1.8272e-01,\n",
              "            -2.7574e-01,  2.5960e-01,  1.7819e-01, -2.3473e-01,  1.3425e-01,\n",
              "             6.6344e-02, -1.8181e-01,  1.9246e-01,  2.4808e-02, -1.1681e-01,\n",
              "             8.1470e-03, -2.5204e-01, -2.6440e-01,  2.3750e-02,  3.3835e-01,\n",
              "             4.0397e-05, -4.7966e-01, -3.4478e-01, -1.6870e-01, -3.3250e-01,\n",
              "             9.9180e-02,  2.5390e-01,  1.5437e-01,  1.2244e-01, -1.3855e-01,\n",
              "             5.3972e-01,  3.4389e-01, -1.1905e-02,  2.3492e-01, -2.5889e-01,\n",
              "             4.8083e-03, -4.1535e-01,  4.7595e-01,  5.3232e-02, -1.2940e-01,\n",
              "            -6.0512e-02,  1.9489e-01, -1.4638e-01, -1.3416e-01, -2.8969e-02,\n",
              "             1.3548e-01,  1.9517e-01,  5.5012e-01,  2.6876e-01,  1.7190e-01,\n",
              "            -1.3616e-01,  2.4894e-01,  5.4807e-02,  6.1283e-02]],\n",
              " \n",
              "          [[-4.4625e-02,  1.2959e-02, -1.9856e-02, -2.6960e-04,  4.0933e-02,\n",
              "             1.2990e-02,  4.1003e-02, -3.8616e-02, -1.0357e-01,  2.7255e-02,\n",
              "            -2.6935e-02,  4.9463e-02, -9.8953e-04,  3.7723e-02,  4.8330e-02,\n",
              "            -8.8295e-02, -1.4686e-01,  6.8777e-02, -9.3608e-03, -4.3165e-02,\n",
              "            -8.9443e-02, -4.7257e-04,  1.6622e-01, -2.3621e-01, -1.7492e-01,\n",
              "            -1.3718e-01, -3.2427e-02, -2.4181e-02, -5.0062e-02, -5.6694e-02,\n",
              "             1.3067e-01,  6.4568e-02,  6.5276e-02,  3.7274e-02,  4.2521e-02,\n",
              "            -1.7188e-01, -3.7153e-02,  2.1171e-02, -1.6264e-01,  6.8564e-02,\n",
              "            -5.8675e-02, -9.4102e-02, -9.0568e-02, -1.7186e-02, -1.0426e-01,\n",
              "            -3.9616e-02, -2.0311e-01,  6.6953e-02, -2.1582e-02, -7.0676e-02,\n",
              "            -2.3553e-02, -4.0411e-03,  1.5146e-02,  3.2538e-02, -9.6706e-02,\n",
              "             1.0702e-01,  9.3301e-02, -1.0346e-01,  2.4193e-01, -2.5319e-02,\n",
              "             5.2766e-03,  1.8716e-01, -3.1861e-03, -6.1551e-02]],\n",
              " \n",
              "          [[-5.4209e-01,  9.9976e-01,  2.6016e-01,  1.5369e-01,  1.4414e-01,\n",
              "             2.2966e-02,  2.9197e-03,  2.1060e-01, -1.0437e-01, -9.0935e-02,\n",
              "            -1.0807e-01,  5.9142e-02,  1.2154e-01, -2.1805e-01,  2.4514e-01,\n",
              "             2.1899e-02,  1.3183e-01, -1.2778e-01, -8.6358e-01,  3.0672e-01,\n",
              "             2.4908e-01,  6.8322e-02,  1.1722e+00, -1.7583e-01, -5.9857e-02,\n",
              "            -1.6263e-01,  2.5497e-01, -2.3260e-02,  4.1582e-02, -9.0183e-02,\n",
              "             5.0085e-01,  1.2821e-01, -2.2671e-01,  1.8814e-01, -7.4506e-01,\n",
              "            -2.6312e-02,  2.0441e-01, -5.5000e-02, -1.8323e-01,  1.5548e-01,\n",
              "             1.6746e-01, -3.0651e-01,  1.9743e-01,  4.3043e-02,  1.1696e-01,\n",
              "            -7.1976e-01, -3.5592e-01,  1.4099e-02, -1.0483e-01,  1.1904e-01,\n",
              "            -3.9028e-02,  7.2879e-02, -1.3177e-01,  1.8156e-01, -1.2094e-01,\n",
              "            -3.5317e-02, -1.2503e-01,  1.4616e-01,  6.6480e-02, -2.4411e-01,\n",
              "             1.2972e-01,  5.7931e-02, -6.5680e-02,  1.2916e-01]],\n",
              " \n",
              "          [[ 1.2943e-01, -7.6200e-01,  1.7206e-01,  1.5656e-01,  3.9801e-01,\n",
              "             1.8482e-01, -1.3526e-01,  1.4024e-01, -1.6366e-02,  2.9796e-02,\n",
              "            -2.3639e-02,  6.4088e-02,  2.7776e-01,  2.4756e-01, -1.4608e-01,\n",
              "            -9.1498e-04, -3.0772e-01, -2.2188e-01,  1.4015e-01, -1.6988e-01,\n",
              "            -3.8054e-03, -2.3888e-01,  1.7060e-01, -1.3586e-01,  3.1906e-01,\n",
              "            -2.0570e-01,  1.7172e-01, -3.2992e-02, -1.9828e-02,  4.4786e-02,\n",
              "             1.9112e-01,  1.0814e-02, -1.3935e-02,  1.3276e-02, -2.0193e-01,\n",
              "            -1.5537e-01, -2.6138e-03,  1.1773e-01, -1.5620e-01, -5.5094e-02,\n",
              "             6.3284e-02, -2.2060e-01,  1.8055e-01,  2.0453e-01, -4.5160e-01,\n",
              "            -9.5200e-02, -7.4291e-02, -3.7073e-02, -1.3966e-01, -9.7141e-02,\n",
              "            -2.4110e-01, -2.3115e-01,  6.8520e-02,  2.6149e-01,  2.1589e-01,\n",
              "             9.4176e-02,  2.7245e-02, -3.6339e-02, -1.2104e-01, -3.0385e-01,\n",
              "            -1.2404e-02,  1.7853e-01,  1.6649e-01,  1.3321e-01]],\n",
              " \n",
              "          [[ 2.2194e-01,  7.8477e-02, -1.2938e-01, -3.8282e-01,  1.8455e-02,\n",
              "            -1.4559e-01,  2.4744e-01,  2.0387e-01,  7.2230e-01, -1.2193e-01,\n",
              "            -2.8043e-02, -7.9977e-02,  1.6367e-01,  2.3255e-01, -1.1721e-01,\n",
              "             9.9724e-02,  1.8204e-02,  5.6319e-02, -1.0680e-02,  4.2620e-01,\n",
              "             1.6051e-01,  2.0388e-02, -1.1436e-01, -3.0970e-02, -1.6000e-01,\n",
              "             1.2359e-01,  2.6942e-01,  5.6608e-02,  1.8056e-01,  1.9652e-01,\n",
              "             4.4544e-02, -1.4046e-01,  1.2171e-01, -1.0363e-02,  2.0391e-01,\n",
              "            -1.9505e-01,  2.1203e-01,  8.9177e-02, -2.8597e-02,  1.0333e-01,\n",
              "             9.1204e-02,  9.0809e-02,  1.7146e-01, -9.7472e-02,  1.1316e-01,\n",
              "             1.2505e-01, -1.7954e-01, -3.5788e-01, -4.3298e-03,  5.6174e-01,\n",
              "             9.1996e-02, -7.9028e-03,  5.5515e-02, -5.4020e-02,  1.1152e-01,\n",
              "            -2.7618e-02,  6.7676e-02, -5.5494e-02,  1.3148e-01,  1.0243e-01,\n",
              "             1.9750e-01,  1.1372e-01, -1.5930e-02,  1.4663e-01]],\n",
              " \n",
              "          [[-1.0801e-01, -6.8041e-03, -2.6120e-01,  3.4594e-01, -2.2141e-01,\n",
              "             1.5312e-01,  1.5432e-01, -2.5142e-01, -2.0115e-02, -1.8119e-01,\n",
              "             3.5898e-02, -2.2593e-02,  5.3133e-02, -9.4046e-02, -4.3762e-02,\n",
              "             1.3610e-02, -9.6086e-02,  2.3839e-01,  9.7492e-02, -2.5785e-02,\n",
              "             2.5140e-01,  6.4386e-02, -2.7582e-01,  1.0092e-01, -2.6706e-01,\n",
              "             1.4031e-01, -7.1575e-02, -1.4633e-01,  1.4219e-01,  2.2800e-01,\n",
              "            -6.1522e-04,  3.4564e-02, -7.9565e-02,  2.1669e-02,  4.0309e-02,\n",
              "            -2.5172e-01,  3.4815e-02, -2.0099e-01,  1.9000e-01, -7.9208e-02,\n",
              "            -7.9196e-02, -1.5569e-01, -1.2824e-01, -7.8178e-03, -7.2494e-02,\n",
              "             1.7363e-01,  8.1864e-02,  6.6621e-02, -1.4492e-01,  1.5678e-01,\n",
              "             6.7835e-04,  1.5938e-01,  2.5417e-01,  4.7636e-02, -1.5053e-01,\n",
              "             4.6581e-02, -8.5633e-02,  3.3402e-02, -3.0154e-01, -7.9911e-02,\n",
              "            -4.0527e-02,  5.3540e-02,  1.4217e-01,  1.0859e-01]],\n",
              " \n",
              "          [[ 2.9188e-01, -1.1506e-01, -4.3853e-01,  1.3075e-01,  4.8307e-01,\n",
              "             1.1964e+00,  2.7231e-02, -6.4482e-01,  9.8903e-01,  1.3257e+00,\n",
              "            -5.0732e-02, -3.3604e-02,  2.5618e-01,  2.0894e-01,  2.7593e-01,\n",
              "            -1.4529e-01, -1.1414e-01,  4.6590e-01, -3.7445e-01,  3.7356e-02,\n",
              "             6.9562e-02,  1.2788e-01,  8.3143e-02, -1.9421e-01,  2.0081e-01,\n",
              "             3.5820e-01,  5.8533e-01, -1.5087e+00, -3.4789e-01, -2.5592e-01,\n",
              "             1.0959e-01,  1.5187e-01, -6.1999e-02,  6.2518e-01, -1.9485e-02,\n",
              "             7.2366e-02,  1.5218e-02, -4.0080e-01, -4.4024e-01,  1.8379e-01,\n",
              "            -1.6654e-01, -1.5152e-01,  5.8154e-01, -5.0357e-01, -5.4405e-01,\n",
              "            -1.4347e-01,  2.1822e-01,  6.4796e-01,  2.8207e-01,  1.5754e-01,\n",
              "            -3.4576e-02, -4.4722e-02, -1.5084e-01, -5.2411e-01,  2.5869e-01,\n",
              "             7.4176e-02, -9.6719e-01,  1.4684e-01, -5.0677e-01, -2.4988e-02,\n",
              "             7.1612e-01, -2.6534e-01,  3.1793e-01,  4.9131e-02]],\n",
              " \n",
              "          [[-1.6762e-02, -7.9350e-02, -3.6100e-04,  4.6305e-02, -9.6491e-02,\n",
              "             5.9346e-02, -7.1426e-02, -7.8099e-03, -5.4436e-02,  2.4633e-02,\n",
              "            -3.3978e-02, -1.9640e-02,  1.9175e-02, -5.6442e-02, -8.5125e-02,\n",
              "            -6.4302e-02, -2.2469e-02,  8.7482e-02,  8.6593e-02,  8.4085e-02,\n",
              "             1.0859e-02,  4.5617e-02, -1.2698e-01, -1.7134e-02,  1.1434e-01,\n",
              "             8.4611e-02,  4.4113e-02, -4.7900e-02, -6.0785e-02,  7.8928e-02,\n",
              "             1.1938e-01, -9.4878e-03,  5.8613e-02,  5.3111e-02,  1.0973e-01,\n",
              "            -1.1226e-01,  3.9057e-02,  5.8362e-02,  2.1100e-01,  1.6548e-02,\n",
              "            -8.4022e-02,  5.5279e-03, -5.1316e-02, -1.4678e-02, -7.9064e-02,\n",
              "             3.2555e-02, -7.3480e-04,  1.6399e-02,  3.4009e-02, -7.5496e-02,\n",
              "            -2.4077e-02,  8.3410e-02,  4.1017e-02,  8.9220e-02,  9.0721e-02,\n",
              "            -8.5430e-03, -7.0503e-03, -1.0142e-01,  7.9759e-02,  9.8977e-02,\n",
              "             1.1605e-01,  1.2545e-01, -8.9708e-03,  5.2697e-02]],\n",
              " \n",
              "          [[-2.3982e-01, -1.3169e-01,  3.2156e-02,  1.7660e-01,  9.1645e-02,\n",
              "             5.8097e-01,  1.3339e-02,  2.1003e-01, -4.5831e-01,  1.2958e-01,\n",
              "            -2.6269e-01, -1.1898e-01,  9.6358e-02,  2.1011e-01,  1.1993e-01,\n",
              "             1.3110e-02, -4.6368e-02,  1.2328e-01, -2.2957e-01, -1.3870e-02,\n",
              "            -7.9470e-02,  3.1644e-01, -1.0792e-01, -5.3631e-02,  4.9484e-01,\n",
              "             1.3330e-01,  1.2382e-01, -3.4223e-03, -2.1619e-01,  2.6146e-01,\n",
              "            -1.2689e-01, -1.6147e-01, -1.4804e-01, -1.3646e-01,  1.0854e-01,\n",
              "            -9.7067e-02,  3.5785e-01,  8.9237e-02,  2.1423e-01,  2.4389e-01,\n",
              "             1.5940e-01,  3.2069e-02,  1.9676e-01, -5.6328e-02,  2.0485e-01,\n",
              "             1.3444e-02,  1.6842e-02,  2.2784e-01,  4.0129e-01,  1.2056e-01,\n",
              "             7.0940e-02,  2.4394e-01, -7.6701e-02, -1.1353e-02, -1.8868e-01,\n",
              "             1.3078e-01, -7.5254e-02,  1.0736e-01,  1.7850e-01,  7.3289e-02,\n",
              "             8.0353e-02,  1.1096e-01, -4.4823e-01, -2.8592e-02]],\n",
              " \n",
              "          [[ 4.7808e-02,  1.6043e-01,  1.9411e-01, -3.5388e-01, -1.8258e-01,\n",
              "             2.5250e-01, -1.5961e-01,  7.6818e-02, -2.8257e-02,  5.4075e-02,\n",
              "             5.8154e-02, -1.7130e-03, -1.9450e-01,  1.9972e-01, -6.6186e-02,\n",
              "             5.4210e-02,  1.2594e-01,  6.1755e-02, -2.1846e-01,  1.3807e-01,\n",
              "            -4.4412e-01, -1.9590e-01, -1.4987e-01, -2.0674e-01, -5.6138e-02,\n",
              "             8.9590e-02, -2.5925e-01,  5.1154e-01, -1.6762e-01,  1.0806e-01,\n",
              "             2.1920e-02, -2.1882e-01,  2.2043e-01,  1.2553e-03,  5.5780e-01,\n",
              "             9.5284e-02, -4.7863e-02, -2.7520e-01, -9.4578e-02, -5.1578e-02,\n",
              "             6.2054e-02, -1.6798e-01, -6.9172e-02,  2.4798e-01, -5.0535e-02,\n",
              "             3.4402e-01,  1.6275e-01, -1.0098e-01,  6.3632e-02,  1.6692e-01,\n",
              "            -2.2720e-01,  2.5772e-01,  8.6055e-02,  2.0026e-01, -1.3933e-01,\n",
              "            -1.2364e-01,  1.3289e-01, -9.8049e-02,  9.2380e-02, -4.1722e-02,\n",
              "             1.4436e-02, -1.9647e-01, -2.8476e-02,  8.5031e-02]],\n",
              " \n",
              "          [[ 1.2667e-01,  7.9922e-05, -3.0136e-01, -7.9022e-02, -7.7791e-02,\n",
              "             1.3259e-01,  6.2304e-02,  6.8550e-02,  5.9034e-03, -2.6698e-01,\n",
              "            -2.6618e-02,  4.4693e-01, -2.4522e-01,  2.6941e-01,  7.4814e-02,\n",
              "             2.3134e-01,  2.4143e-01,  4.9123e-02, -2.0139e-01, -1.0233e-01,\n",
              "            -1.9566e-01,  6.7435e-03, -2.4720e-01,  3.1130e-01,  6.7376e-02,\n",
              "             3.1983e-01, -1.3359e-01, -4.4695e-02, -3.6666e-01, -5.3597e-03,\n",
              "            -3.3652e-02,  8.3703e-02, -1.5011e-01, -9.1771e-02,  4.5850e-02,\n",
              "            -6.2353e-01,  8.0132e-02,  1.9764e-01, -2.4046e-01,  2.6481e-01,\n",
              "            -8.0565e-01, -1.5412e-01,  4.5156e-01,  2.3525e-02,  1.6931e-01,\n",
              "             6.3958e-02, -2.2726e-01, -6.9550e-01, -2.9862e-01, -1.4588e-01,\n",
              "             3.1967e-01, -3.0589e-01,  1.7580e-01,  2.5594e-01, -4.0182e-02,\n",
              "            -3.3957e-01,  2.5401e-01, -1.9983e-02,  2.6592e-01,  4.8156e-01,\n",
              "             4.6104e-01,  2.3895e-01, -3.3603e-01, -1.5230e-01]]]],\n",
              "        grad_fn=<CatBackward0>),\n",
              " tensor([[[[-0.8833, -3.4285, -2.6623,  ...,  2.5274,  1.7202,  0.3825],\n",
              "           [-0.8820, -3.3164, -2.7943,  ...,  2.7805,  2.0013,  0.4679],\n",
              "           [ 0.0560, -0.5999, -1.7023,  ..., -0.3690,  2.1554,  0.9853],\n",
              "           ...,\n",
              "           [-0.7339,  0.7384,  1.0374,  ..., -0.4609,  1.6293, -0.7096],\n",
              "           [ 0.8477,  3.5175,  2.5856,  ...,  0.6772,  1.6858,  2.9344],\n",
              "           [-0.0284, -0.4705, -1.6890,  ..., -0.3350,  2.0269,  1.0855]],\n",
              " \n",
              "          [[ 1.2067, -1.1755, -1.7359,  ..., -3.4384,  2.8740,  3.1621],\n",
              "           [ 1.2819, -1.2006, -1.8315,  ..., -3.4382,  2.8235,  3.2538],\n",
              "           [ 1.0451,  0.8339,  1.1047,  ..., -1.0590, -0.6443,  0.1340],\n",
              "           ...,\n",
              "           [-0.1506,  3.0533,  1.0543,  ..., -3.7167, -0.1186, -1.3183],\n",
              "           [ 3.6786,  1.7855, -1.8197,  ..., -2.9233,  3.0090,  2.1756],\n",
              "           [ 1.1482,  0.9745,  1.0276,  ..., -1.1499, -0.1299,  0.1975]],\n",
              " \n",
              "          [[-1.3356, -3.2764,  0.4654,  ..., -0.0838,  0.9318,  2.6222],\n",
              "           [-1.4291, -3.3263,  0.4244,  ..., -0.1107,  1.0453,  2.5619],\n",
              "           [-0.5920,  1.8882, -0.8635,  ..., -0.2092,  1.3109, -0.5959],\n",
              "           ...,\n",
              "           [-1.5569,  0.4766, -3.4092,  ...,  2.9051,  1.4852, -1.6452],\n",
              "           [-0.5781,  0.9036, -0.8686,  ...,  4.3938, -1.6213,  0.1727],\n",
              "           [-0.7968,  1.9476, -1.0103,  ..., -0.1296,  1.2826, -0.8542]],\n",
              " \n",
              "          ...,\n",
              " \n",
              "          [[ 0.1696, -0.5412,  1.7966,  ...,  0.1816, -0.3421,  0.2772],\n",
              "           [ 0.1152, -0.3554,  1.6868,  ..., -0.1288, -0.3592,  0.4552],\n",
              "           [-0.1441, -0.2058,  0.1195,  ...,  2.9829, -1.3462,  1.1441],\n",
              "           ...,\n",
              "           [-0.1740,  1.9438, -3.4006,  ..., -0.9166, -0.4565,  2.7548],\n",
              "           [ 0.0888,  0.7551, -0.0578,  ...,  0.5793,  0.0394,  0.3661],\n",
              "           [-0.1908, -0.1121,  0.2200,  ...,  2.7549, -1.3313,  1.4044]],\n",
              " \n",
              "          [[ 2.2790, -2.1983,  3.3456,  ...,  2.1606,  0.2568,  2.1034],\n",
              "           [ 2.3940, -2.0056,  3.2450,  ...,  2.0575,  0.0957,  2.3639],\n",
              "           [-2.0265, -0.5143, -0.5704,  ...,  1.2961, -0.5049,  0.5696],\n",
              "           ...,\n",
              "           [-0.0866, -1.8152,  1.1813,  ..., -0.6559,  3.8467,  2.7601],\n",
              "           [-2.0442,  0.3130, -0.6248,  ..., -0.8157,  1.1541,  2.3263],\n",
              "           [-2.0124, -0.6749, -0.4197,  ...,  1.2078, -0.5234,  0.6094]],\n",
              " \n",
              "          [[ 0.0355,  1.5408,  1.4125,  ...,  0.1390,  0.5162,  1.1741],\n",
              "           [ 0.1263,  1.3292,  1.2091,  ...,  0.1735,  0.5965,  1.2579],\n",
              "           [ 1.0181, -1.0758, -2.3781,  ..., -1.3200, -1.1017, -0.1400],\n",
              "           ...,\n",
              "           [ 1.6813,  0.2705, -1.0450,  ...,  1.6297,  1.3547, -1.2880],\n",
              "           [ 4.4294, -1.4233, -3.3829,  ...,  1.1412,  1.6729, -0.8468],\n",
              "           [ 1.3255, -1.1553, -2.6243,  ..., -1.2533, -0.9824, -0.2783]]]],\n",
              "        grad_fn=<CatBackward0>),\n",
              " tensor([[[[ 2.1199e+00,  7.1074e-01, -5.7262e-01,  ...,  2.7415e-01,\n",
              "             1.5512e+00, -9.0206e-01],\n",
              "           [ 2.1946e+00,  7.8159e-01, -5.2954e-01,  ...,  4.4648e-01,\n",
              "             1.6276e+00, -1.0188e+00],\n",
              "           [-3.3860e-01, -5.0269e-01,  3.4490e-02,  ..., -1.4326e-01,\n",
              "            -5.1407e-01,  7.0888e-01],\n",
              "           ...,\n",
              "           [ 1.8744e+00,  1.2563e+00, -1.4942e+00,  ..., -1.3610e+00,\n",
              "            -2.1300e-01, -1.3640e+00],\n",
              "           [-2.7385e+00, -4.8814e-01, -1.2955e+00,  ...,  2.9135e-01,\n",
              "             3.3240e+00, -3.2585e-01],\n",
              "           [-5.3958e-01, -4.3387e-01, -1.4851e-02,  ..., -1.3113e-01,\n",
              "            -2.7604e-01,  5.1229e-01]],\n",
              " \n",
              "          [[ 7.6884e-01,  9.3737e-01,  1.3761e+00,  ..., -3.5549e-01,\n",
              "            -2.2543e+00, -9.8809e-01],\n",
              "           [ 8.2928e-01,  7.3308e-01,  1.4128e+00,  ..., -2.5766e-01,\n",
              "            -2.2315e+00, -9.7039e-01],\n",
              "           [-5.4192e-02, -1.5818e+00,  1.0449e-01,  ..., -1.1137e+00,\n",
              "             1.7126e-01,  3.9157e-01],\n",
              "           ...,\n",
              "           [ 1.8626e+00,  7.2521e-01,  2.2106e-01,  ...,  2.0449e+00,\n",
              "             9.7623e-01,  3.8910e-01],\n",
              "           [ 1.4948e+00,  2.8191e+00, -2.6480e-01,  ...,  9.5330e-01,\n",
              "            -1.3485e+00,  1.5104e+00],\n",
              "           [ 2.9976e-02, -1.2991e+00,  1.5138e-02,  ..., -1.0777e+00,\n",
              "            -9.0376e-02,  4.9368e-01]],\n",
              " \n",
              "          [[ 1.3984e-01, -6.2729e-01,  8.6467e-03,  ..., -1.7042e+00,\n",
              "             1.4291e+00,  1.9218e+00],\n",
              "           [ 6.3867e-02, -6.2375e-01,  2.2235e-01,  ..., -1.7725e+00,\n",
              "             1.4436e+00,  1.8826e+00],\n",
              "           [ 1.7338e-01,  2.8319e-01, -2.1849e-02,  ...,  2.5853e-01,\n",
              "             3.4624e-01, -2.4574e-03],\n",
              "           ...,\n",
              "           [-1.4421e+00, -2.6326e+00, -8.2715e-01,  ..., -8.8910e-01,\n",
              "            -1.0672e+00, -1.4648e+00],\n",
              "           [-3.7513e+00, -1.5993e+00, -1.1272e+00,  ..., -1.0667e+00,\n",
              "            -7.9915e-01,  1.4089e+00],\n",
              "           [ 2.5099e-02,  2.1600e-01,  2.8052e-02,  ...,  1.9175e-01,\n",
              "             2.7883e-01, -9.6705e-03]],\n",
              " \n",
              "          ...,\n",
              " \n",
              "          [[-1.9051e+00,  7.9994e-01,  8.5855e-01,  ..., -1.1350e+00,\n",
              "            -1.1743e-01, -6.9277e-01],\n",
              "           [-2.0302e+00,  5.8409e-01,  6.0054e-01,  ..., -1.1550e+00,\n",
              "            -1.3007e-01, -6.2273e-01],\n",
              "           [ 4.2256e-01,  6.2395e-01, -1.8954e-01,  ...,  7.1390e-03,\n",
              "             1.7433e-01, -2.3006e-01],\n",
              "           ...,\n",
              "           [ 2.5571e+00,  1.2648e+00,  3.2510e+00,  ...,  2.5416e+00,\n",
              "            -8.7473e-01,  8.5932e-01],\n",
              "           [ 7.6204e-01, -1.9827e+00,  3.1289e-01,  ...,  2.1675e+00,\n",
              "            -1.2232e+00,  5.3278e-01],\n",
              "           [ 3.8165e-01,  6.0063e-01, -2.3451e-01,  ...,  6.3892e-02,\n",
              "             7.0873e-02, -2.4476e-01]],\n",
              " \n",
              "          [[-9.5679e-01,  7.0689e-01, -6.0956e-01,  ..., -5.3139e-01,\n",
              "             2.1485e+00, -1.2376e+00],\n",
              "           [-9.8320e-01,  5.8990e-01, -4.9026e-01,  ..., -5.0267e-01,\n",
              "             2.2650e+00, -1.4207e+00],\n",
              "           [ 1.2842e-01, -3.7059e-01,  3.3575e-02,  ...,  2.7189e-01,\n",
              "            -7.4538e-01,  2.9209e-01],\n",
              "           ...,\n",
              "           [ 2.3686e-01,  2.4515e-01, -1.5723e+00,  ..., -1.5072e+00,\n",
              "             4.9502e+00, -2.7947e-01],\n",
              "           [-1.3569e-01, -7.6175e-01, -8.4120e-01,  ..., -2.6934e+00,\n",
              "             4.4840e+00, -9.4139e-02],\n",
              "           [ 7.0420e-02, -2.3866e-01,  2.7070e-02,  ...,  7.5616e-03,\n",
              "            -8.1057e-01,  2.6353e-01]],\n",
              " \n",
              "          [[ 8.1678e-01,  1.9366e+00, -2.3153e-01,  ...,  2.1417e-01,\n",
              "             4.4062e-01,  1.6106e-01],\n",
              "           [ 1.0008e+00,  2.1571e+00, -1.9205e-01,  ...,  2.9570e-01,\n",
              "             5.5242e-01,  1.9933e-01],\n",
              "           [-3.1208e-01, -6.3597e-01,  7.3503e-03,  ...,  5.7064e-01,\n",
              "            -8.5198e-02, -6.0226e-02],\n",
              "           ...,\n",
              "           [-3.6816e-01,  2.7297e-01, -5.7915e-01,  ...,  5.1905e-01,\n",
              "            -7.3225e-01, -1.0970e+00],\n",
              "           [-7.1152e-01, -1.9223e-01, -1.9056e+00,  ..., -1.2619e+00,\n",
              "            -9.9958e-01,  2.0628e-01],\n",
              "           [-3.4397e-01, -5.6752e-01,  1.7811e-02,  ...,  3.2008e-01,\n",
              "             2.8299e-02,  4.1473e-02]]]], grad_fn=<CatBackward0>))"
            ]
          },
          "metadata": {},
          "execution_count": 40
        }
      ]
    },
    {
      "cell_type": "markdown",
      "metadata": {
        "id": "6oVuLyqVTN9r"
      },
      "source": [
        "The shape of the logits is 1x1x32128. The first dimension is the batch size, the second dimension is the number of tokens in the output sequence (we are still at a single generated token), and the third dimension is the number of tokens in the vocabulary.\n",
        "\n",
        "So what's the next word going to be? We can use greedy decoding to take the token with the highest probability."
      ]
    },
    {
      "cell_type": "code",
      "source": [
        "output.logits[0,0].argmax()"
      ],
      "metadata": {
        "id": "e-us_b1rgxTr",
        "outputId": "7283c561-b1f8-498e-a0bf-a2ee8d3f6904",
        "colab": {
          "base_uri": "https://localhost:8080/"
        }
      },
      "execution_count": null,
      "outputs": [
        {
          "output_type": "execute_result",
          "data": {
            "text/plain": [
              "tensor(2501)"
            ]
          },
          "metadata": {},
          "execution_count": 42
        }
      ]
    },
    {
      "cell_type": "code",
      "execution_count": null,
      "metadata": {
        "colab": {
          "base_uri": "https://localhost:8080/"
        },
        "id": "qMWicQalTN9r",
        "outputId": "5d66d4e6-dbc9-41d8-b04b-ad51d0e877a1"
      },
      "outputs": [
        {
          "output_type": "stream",
          "name": "stdout",
          "text": [
            "Max probability token: 2501\n",
            "Corresponding token: Hall\n"
          ]
        }
      ],
      "source": [
        "max_proba_token = output.logits[0,0].argmax()\n",
        "print(\"Max probability token:\", max_proba_token.item())\n",
        "print(\"Corresponding token:\", tokenizer.decode(max_proba_token))"
      ]
    },
    {
      "cell_type": "markdown",
      "metadata": {
        "id": "lpBOoA5LTN9r"
      },
      "source": [
        "Looks like we're on the right track. We have a new token, which we can add to our `decoder_input_ids` tensor and continue with the next iteration.\n"
      ]
    },
    {
      "cell_type": "code",
      "execution_count": null,
      "metadata": {
        "colab": {
          "base_uri": "https://localhost:8080/"
        },
        "id": "pvDmAoDETN9r",
        "outputId": "5a34419c-ed38-463f-9496-295e6a8aa2d7"
      },
      "outputs": [
        {
          "output_type": "stream",
          "name": "stdout",
          "text": [
            "tensor([[   0, 2501]])\n"
          ]
        }
      ],
      "source": [
        "# .view() acts like .reshape(), but assumes that the tensor is contiguous in memory (& is faster)\n",
        "decoder_input_ids = torch.hstack([decoder_input_ids, max_proba_token.view(1, 1)])\n",
        "print(decoder_input_ids)"
      ]
    },
    {
      "cell_type": "code",
      "execution_count": null,
      "metadata": {
        "colab": {
          "base_uri": "https://localhost:8080/"
        },
        "id": "X55ZjEGqTN9r",
        "outputId": "52eef4d9-4d03-4180-f636-4763c54b11bb"
      },
      "outputs": [
        {
          "output_type": "execute_result",
          "data": {
            "text/plain": [
              "torch.Size([1, 2, 32128])"
            ]
          },
          "metadata": {},
          "execution_count": 45
        }
      ],
      "source": [
        "#TODO: use the model to generate the next token\n",
        "output = model(**tokens, decoder_input_ids=decoder_input_ids)\n",
        "output.logits.shape"
      ]
    },
    {
      "cell_type": "markdown",
      "metadata": {
        "id": "_ZupH-1qTN9r"
      },
      "source": [
        "Now the output has shape 1x2x32128. We have generated two tokens!\n",
        "\n",
        "The first one, remember, will necessarily be the same as the one we produced before, since the masking mechanism prevents the model from seeing any following token.\n",
        "\n",
        "But just to be sure, let's decode both tokens."
      ]
    },
    {
      "cell_type": "code",
      "execution_count": null,
      "metadata": {
        "colab": {
          "base_uri": "https://localhost:8080/"
        },
        "id": "b5RKmCoTTN9r",
        "outputId": "76278c04-86d6-4c9a-f740-a196d2c129b5"
      },
      "outputs": [
        {
          "output_type": "stream",
          "name": "stdout",
          "text": [
            "Token ids tensor([2501,   32])\n",
            "Mapped tokens ['▁Hall', 'o']\n",
            "Decoded string Hallo\n"
          ]
        }
      ],
      "source": [
        "# 0 -> first (and only) batch\n",
        "max_proba_tokens = output.logits[0].argmax(axis=1)\n",
        "print(\"Token ids\", max_proba_tokens)\n",
        "print(\"Mapped tokens\", list(map(reverse_vocab.get, max_proba_tokens.tolist())))\n",
        "print(\"Decoded string\", tokenizer.decode(max_proba_tokens))"
      ]
    },
    {
      "cell_type": "markdown",
      "metadata": {
        "id": "l4seQlwaTN9r"
      },
      "source": [
        "We are onto something. We could go ahead and generate more tokens manually.\n",
        "\n",
        "However, we can implement our own generation loop."
      ]
    },
    {
      "cell_type": "code",
      "execution_count": null,
      "metadata": {
        "colab": {
          "base_uri": "https://localhost:8080/"
        },
        "id": "ryFxEhzITN9r",
        "outputId": "3fde7ca3-8141-42ef-fd38-9c9aa5db32e2"
      },
      "outputs": [
        {
          "output_type": "execute_result",
          "data": {
            "text/plain": [
              "['<pad> Hallo, wie sind Sie nicht?</s>']"
            ]
          },
          "metadata": {},
          "execution_count": 47
        }
      ],
      "source": [
        "# greedy deoding\n",
        "tokenizer.batch_decode(model.generate(**tokens, do_sample=True))"
      ]
    },
    {
      "cell_type": "code",
      "execution_count": null,
      "metadata": {
        "colab": {
          "base_uri": "https://localhost:8080/"
        },
        "id": "acbmbGGTTN9s",
        "outputId": "e4df215b-9f1e-4fa6-e0d0-dabd95372aa4"
      },
      "outputs": [
        {
          "output_type": "execute_result",
          "data": {
            "text/plain": [
              "tensor([2501,   32])"
            ]
          },
          "metadata": {},
          "execution_count": 48
        }
      ],
      "source": [
        "output.logits[0].argmax(axis=1)"
      ]
    },
    {
      "cell_type": "code",
      "execution_count": null,
      "metadata": {
        "colab": {
          "base_uri": "https://localhost:8080/"
        },
        "id": "VVgdzqBVTN9s",
        "outputId": "7ea209dc-75dc-462a-b589-9d37cd7df8f0"
      },
      "outputs": [
        {
          "output_type": "stream",
          "name": "stdout",
          "text": [
            "Step 1: Hall\n",
            "Step 2: Hallo\n",
            "Step 3: Hallo,\n",
            "Step 4: Hallo, wie\n",
            "Step 5: Hallo, wie sind\n",
            "Step 6: Hallo, wie sind Sie\n",
            "Step 7: Hallo, wie sind Sie?\n",
            "Step 8: Hallo, wie sind Sie?</s>\n"
          ]
        }
      ],
      "source": [
        "\n",
        "decoder_input_ids = torch.tensor([[ tokenizer.pad_token_id ]])\n",
        "\n",
        "max_length = 50\n",
        "i = 0\n",
        "\n",
        "# util we do not reach max_length OR we generate an EOS\n",
        "while i < max_length and decoder_input_ids[0,-1] != tokenizer.eos_token_id:\n",
        "    output = model(**tokens, decoder_input_ids=decoder_input_ids)\n",
        "    max_proba_tokens = output.logits[0].argmax(axis=1) # most likely token\n",
        "    print(f\"Step {i+1}: {tokenizer.decode(max_proba_tokens)}\")\n",
        "    decoder_input_ids = torch.hstack([decoder_input_ids, max_proba_tokens[-1].view(1, 1)])\n",
        "    # hstack = attach the next word\n",
        "    i += 1"
      ]
    },
    {
      "cell_type": "markdown",
      "metadata": {
        "id": "VSLxACe-TN9s"
      },
      "source": [
        "Note that we are introducing a `max_length` parameter. This is just in case, to prevent the model from generating an infinite sequence.\n",
        "\n",
        "Now, turns out that the model has a `generate()` method that does exactly what we just did."
      ]
    },
    {
      "cell_type": "code",
      "execution_count": null,
      "metadata": {
        "colab": {
          "base_uri": "https://localhost:8080/"
        },
        "id": "1DsVcUhsTN9s",
        "outputId": "229f0dda-e1c3-4f2a-d485-c6d7e1f5107b"
      },
      "outputs": [
        {
          "output_type": "execute_result",
          "data": {
            "text/plain": [
              "['<pad> Hallo, wie sind Sie?</s>']"
            ]
          },
          "metadata": {},
          "execution_count": 50
        }
      ],
      "source": [
        "#TODO: use the model to generate a translation of the input sentence\n",
        "out_tokens = model.generate(**tokens, max_length=max_length)\n",
        "tokenizer.batch_decode(out_tokens)"
      ]
    },
    {
      "cell_type": "markdown",
      "metadata": {
        "id": "69mO0oQ6TN9u"
      },
      "source": [
        "You may also empirically verify that `model.generate()` is faster than the manual loop. This is because there are some optimizations in the `generate()` method that make the generation process faster (e.g., caching the encoder's outputs, or the previous decoder's hidden states)."
      ]
    },
    {
      "cell_type": "markdown",
      "metadata": {
        "id": "EsTlSGdFTN9u"
      },
      "source": [
        "## Cross-attention\n",
        "\n",
        "We can now run the previous code, but now let's compute the cross-attention weights. This will help us understand what the model is paying attention to in the input sequence, when generating the next token.\n",
        "\n",
        "To compute the attention weights, we need to reload the model, passing the `output_attentions=True` parameter. This will make the model return the attention weights for each layer."
      ]
    },
    {
      "cell_type": "code",
      "execution_count": null,
      "metadata": {
        "id": "p6c5hgULTN9u"
      },
      "outputs": [],
      "source": [
        "#TODO: load the model that returns also the output of the attentions (output_attentions=True)\n",
        "model = ..."
      ]
    },
    {
      "cell_type": "code",
      "execution_count": null,
      "metadata": {
        "id": "KoRoDEobTN9u"
      },
      "outputs": [],
      "source": [
        "# re-prepare encoder tokens and decoder tokens\n",
        "# input_sentence = \"translate from english to german: hello how are you?\"\n",
        "input_sentence = \"translate english to german: hello how are you?\"\n",
        "\n",
        "#TODO: use the tokenizer to tokenize the input sentence as a tensor\n",
        "tokens = tokenizer(input_sentence, return_tensors=\"pt\")\n",
        "\n",
        "#TODO: create the token for the decoder input (start with the <pad> token -> tokenizer.pad_token_id)\n",
        "decoder_input_ids = torch.tensor(...)\n",
        "\n",
        "#TODO: use the model to generate the output putting the decoder_input_ids as the first token (decoder_input_ids=decoder_input_ids)\n",
        "output = ...\n",
        "print(output.keys())"
      ]
    },
    {
      "cell_type": "code",
      "execution_count": null,
      "metadata": {
        "id": "3nNjQW-1TN9u"
      },
      "outputs": [],
      "source": [
        "#TODO: pass in the tokenizer.batch_decode the output of the model to get the translation of the input sentence\n",
        "# `tokenizer.batch_decode() is the funnction that decodes the tokenized output of the model into a string`\n",
        "tokenizer.batch_decode(...)"
      ]
    },
    {
      "cell_type": "markdown",
      "metadata": {
        "id": "VWvPvxVITN9u"
      },
      "source": [
        "In addition to the previous values, we now have `decoder_attentions`, `cross_attentions`, and `encoder_attentions`.\n",
        "\n",
        "The names are self-explanatory. We will focus on the cross-attention to understand encoder-decoder interactions.\n",
        "\n",
        "Each of the decoder's layers has a corresponding cross-attention layer. So we expect to have 12 cross-attention layers. Indeed, the `cross_attention` is a tuple, with 12 elements."
      ]
    },
    {
      "cell_type": "code",
      "execution_count": null,
      "metadata": {
        "id": "nf1PmH2UTN9u"
      },
      "outputs": [],
      "source": [
        "type(output.cross_attentions), len(output.cross_attentions)"
      ]
    },
    {
      "cell_type": "markdown",
      "metadata": {
        "id": "dA2VdL4FTN9v"
      },
      "source": [
        "The shape of any one of these attentions is the following: 1x12x1x13. Remember:\n",
        "\n",
        "- the first 1 is the batch size (a single sentence),\n",
        "- 12 are the attention heads, each one producing an attention mask,\n",
        "- 1 is the number of tokens passed as input to the decoder (just BOS, for now),\n",
        "- 11 is the number of tokens in the input sequence."
      ]
    },
    {
      "cell_type": "code",
      "execution_count": null,
      "metadata": {
        "id": "xo590a6LTN9v"
      },
      "outputs": [],
      "source": [
        "output.cross_attentions[0].shape"
      ]
    },
    {
      "cell_type": "markdown",
      "metadata": {
        "id": "1T81bcvsTN9v"
      },
      "source": [
        "Let's look at the first layer's attentions.\n",
        "\n",
        "We can see that for early stages the attention is mostly focused on identifying the task (\"translate\", \"english\", \"german\").\n",
        "\n",
        "Interestingly, \"german\" gets attention from many of the heads, whereas \"translate\" and \"english\" are less attended to. We can expect this to be the case since T5 has been trained on various tasks, one of which was translation from english to other languages."
      ]
    },
    {
      "cell_type": "code",
      "execution_count": null,
      "metadata": {
        "id": "wsFH8PulTN9v"
      },
      "outputs": [],
      "source": [
        "fig, ax = plt.subplots(figsize=(4,4))\n",
        "ax.imshow(output.cross_attentions[0][0, :, 0].detach().numpy())\n",
        "input_tokens = tokenizer.tokenize(input_sentence) + [ \"</s>\" ]\n",
        "ax.set_xticks(range(len(input_tokens)), input_tokens, rotation=90);"
      ]
    },
    {
      "cell_type": "markdown",
      "metadata": {
        "id": "pmbCPRVVTN9v"
      },
      "source": [
        "We can check the rest of the attentions in the other layers as well.\n",
        "\n",
        "With the exception of the initial layer, the attention on \"translate\" and \"english\" is mostly gone. The attention is now focused on \"german\" and on the first word of the sentence (\"hello\").\n"
      ]
    },
    {
      "cell_type": "code",
      "execution_count": null,
      "metadata": {
        "id": "rgUYUrMATN9v"
      },
      "outputs": [],
      "source": [
        "fig, ax = plt.subplots(1, 10, figsize=(14, 3))\n",
        "\n",
        "ax[0].set_ylabel(\"Attention head\")\n",
        "\n",
        "for i in range(10):\n",
        "    ax[i].imshow(output.cross_attentions[i][0, :, 0].detach().numpy())\n",
        "    input_tokens = tokenizer.tokenize(input_sentence) + [ \"</s>\" ]\n",
        "    ax[i].set_xticks(range(len(input_tokens)), input_tokens, rotation=90);\n",
        "    ax[i].set_yticks([])"
      ]
    },
    {
      "cell_type": "markdown",
      "metadata": {
        "id": "FltbDb4BTN9v"
      },
      "source": [
        "As a final exploration, let's check the average attention across layers and heads, for the last token generated throughout the entire sequence.\n",
        "\n",
        "In this way, we can observe how the attention shifts as we generate more tokens."
      ]
    },
    {
      "cell_type": "code",
      "execution_count": null,
      "metadata": {
        "id": "oRfRUmsDTN9v"
      },
      "outputs": [],
      "source": [
        "decoder_input_ids = torch.tensor([[ tokenizer.pad_token_id ]])\n",
        "\n",
        "attns = []\n",
        "\n",
        "max_length = 50\n",
        "i = 0\n",
        "\n",
        "while i < max_length and decoder_input_ids[0,-1] != tokenizer.eos_token_id:\n",
        "    output = model(**tokens, decoder_input_ids=decoder_input_ids)\n",
        "    max_proba_tokens = output.logits[0].argmax(axis=1)\n",
        "    print(f\"Step {i+1}: {tokenizer.decode(max_proba_tokens)}\")\n",
        "    decoder_input_ids = torch.hstack([decoder_input_ids, max_proba_tokens[-1].view(1, 1)])\n",
        "    attns.append(output.cross_attentions)\n",
        "    i += 1"
      ]
    },
    {
      "cell_type": "markdown",
      "metadata": {
        "id": "F7tg9Rh6TN9v"
      },
      "source": [
        "Note: taking the average across all heads and all layers may not necessarily be the best approach (for instance, some interesting aspects may be lost in this aggregation). However, it should give us a general idea of what the model is focusing on."
      ]
    },
    {
      "cell_type": "code",
      "execution_count": null,
      "metadata": {
        "id": "W9gti005TN9v"
      },
      "outputs": [],
      "source": [
        "fig, ax = plt.subplots(figsize=(5, 5))\n",
        "ax.imshow(torch.stack([ torch.stack(a).mean(axis=(0, 1, 2))[-1] for a in attns ]).detach().numpy())\n",
        "ax.set_xlabel(\"Input token\")\n",
        "ax.set_ylabel(\"Generated token\")\n",
        "\n",
        "input_tokens = tokenizer.tokenize(input_sentence) + [ \"</s>\" ]\n",
        "output_tokens = tokenizer.tokenize(tokenizer.decode(output.logits[0].argmax(axis=1)))\n",
        "ax.set_xticks(range(len(input_tokens)), input_tokens, rotation=90)\n",
        "ax.set_yticks(range(len(output_tokens)), output_tokens);"
      ]
    },
    {
      "cell_type": "markdown",
      "metadata": {
        "id": "sOKyBGDsTN9v"
      },
      "source": [
        "Indeed, when Hall|o|, is generated, the most attention is paid to the word \"hello\". Then the attention shifts to the rest of the sentence gradually. This shows how the decoder can focus on different parts of the input sequence as it generates different parts of the output sequence!"
      ]
    }
  ],
  "metadata": {
    "kernelspec": {
      "display_name": "Python 3",
      "name": "python3"
    },
    "language_info": {
      "codemirror_mode": {
        "name": "ipython",
        "version": 3
      },
      "file_extension": ".py",
      "mimetype": "text/x-python",
      "name": "python",
      "nbconvert_exporter": "python",
      "pygments_lexer": "ipython3",
      "version": "3.10.12"
    },
    "colab": {
      "provenance": [],
      "gpuType": "T4"
    },
    "accelerator": "GPU",
    "widgets": {
      "application/vnd.jupyter.widget-state+json": {
        "bc7f6fa919404acdb6df08cbbb57aeaa": {
          "model_module": "@jupyter-widgets/controls",
          "model_name": "HBoxModel",
          "model_module_version": "1.5.0",
          "state": {
            "_dom_classes": [],
            "_model_module": "@jupyter-widgets/controls",
            "_model_module_version": "1.5.0",
            "_model_name": "HBoxModel",
            "_view_count": null,
            "_view_module": "@jupyter-widgets/controls",
            "_view_module_version": "1.5.0",
            "_view_name": "HBoxView",
            "box_style": "",
            "children": [
              "IPY_MODEL_0f90a2b7c6a844b08b82608b3b0d19c0",
              "IPY_MODEL_7a35bb9a54cb44e0979aa09f7b610f86",
              "IPY_MODEL_59c3309206954e7c8389ef22ea2dd4b1"
            ],
            "layout": "IPY_MODEL_f7cdc6b2ff124bb2a4b11f02da836bce"
          }
        },
        "0f90a2b7c6a844b08b82608b3b0d19c0": {
          "model_module": "@jupyter-widgets/controls",
          "model_name": "HTMLModel",
          "model_module_version": "1.5.0",
          "state": {
            "_dom_classes": [],
            "_model_module": "@jupyter-widgets/controls",
            "_model_module_version": "1.5.0",
            "_model_name": "HTMLModel",
            "_view_count": null,
            "_view_module": "@jupyter-widgets/controls",
            "_view_module_version": "1.5.0",
            "_view_name": "HTMLView",
            "description": "",
            "description_tooltip": null,
            "layout": "IPY_MODEL_822b6a3fe202462dad1f8ef02696ff71",
            "placeholder": "​",
            "style": "IPY_MODEL_8bece923e434440cb3896c51a89973c7",
            "value": "config.json: "
          }
        },
        "7a35bb9a54cb44e0979aa09f7b610f86": {
          "model_module": "@jupyter-widgets/controls",
          "model_name": "FloatProgressModel",
          "model_module_version": "1.5.0",
          "state": {
            "_dom_classes": [],
            "_model_module": "@jupyter-widgets/controls",
            "_model_module_version": "1.5.0",
            "_model_name": "FloatProgressModel",
            "_view_count": null,
            "_view_module": "@jupyter-widgets/controls",
            "_view_module_version": "1.5.0",
            "_view_name": "ProgressView",
            "bar_style": "success",
            "description": "",
            "description_tooltip": null,
            "layout": "IPY_MODEL_91f3e33f932e44febf8bcf9c335dc467",
            "max": 1,
            "min": 0,
            "orientation": "horizontal",
            "style": "IPY_MODEL_630d350b72134608985be5f3d3090f69",
            "value": 1
          }
        },
        "59c3309206954e7c8389ef22ea2dd4b1": {
          "model_module": "@jupyter-widgets/controls",
          "model_name": "HTMLModel",
          "model_module_version": "1.5.0",
          "state": {
            "_dom_classes": [],
            "_model_module": "@jupyter-widgets/controls",
            "_model_module_version": "1.5.0",
            "_model_name": "HTMLModel",
            "_view_count": null,
            "_view_module": "@jupyter-widgets/controls",
            "_view_module_version": "1.5.0",
            "_view_name": "HTMLView",
            "description": "",
            "description_tooltip": null,
            "layout": "IPY_MODEL_40f632aa04ea4edb942f19fc6861507e",
            "placeholder": "​",
            "style": "IPY_MODEL_1683c3c630bb4cfcbbb0c4a60be9805a",
            "value": " 1.21k/? [00:00&lt;00:00, 32.8kB/s]"
          }
        },
        "f7cdc6b2ff124bb2a4b11f02da836bce": {
          "model_module": "@jupyter-widgets/base",
          "model_name": "LayoutModel",
          "model_module_version": "1.2.0",
          "state": {
            "_model_module": "@jupyter-widgets/base",
            "_model_module_version": "1.2.0",
            "_model_name": "LayoutModel",
            "_view_count": null,
            "_view_module": "@jupyter-widgets/base",
            "_view_module_version": "1.2.0",
            "_view_name": "LayoutView",
            "align_content": null,
            "align_items": null,
            "align_self": null,
            "border": null,
            "bottom": null,
            "display": null,
            "flex": null,
            "flex_flow": null,
            "grid_area": null,
            "grid_auto_columns": null,
            "grid_auto_flow": null,
            "grid_auto_rows": null,
            "grid_column": null,
            "grid_gap": null,
            "grid_row": null,
            "grid_template_areas": null,
            "grid_template_columns": null,
            "grid_template_rows": null,
            "height": null,
            "justify_content": null,
            "justify_items": null,
            "left": null,
            "margin": null,
            "max_height": null,
            "max_width": null,
            "min_height": null,
            "min_width": null,
            "object_fit": null,
            "object_position": null,
            "order": null,
            "overflow": null,
            "overflow_x": null,
            "overflow_y": null,
            "padding": null,
            "right": null,
            "top": null,
            "visibility": null,
            "width": null
          }
        },
        "822b6a3fe202462dad1f8ef02696ff71": {
          "model_module": "@jupyter-widgets/base",
          "model_name": "LayoutModel",
          "model_module_version": "1.2.0",
          "state": {
            "_model_module": "@jupyter-widgets/base",
            "_model_module_version": "1.2.0",
            "_model_name": "LayoutModel",
            "_view_count": null,
            "_view_module": "@jupyter-widgets/base",
            "_view_module_version": "1.2.0",
            "_view_name": "LayoutView",
            "align_content": null,
            "align_items": null,
            "align_self": null,
            "border": null,
            "bottom": null,
            "display": null,
            "flex": null,
            "flex_flow": null,
            "grid_area": null,
            "grid_auto_columns": null,
            "grid_auto_flow": null,
            "grid_auto_rows": null,
            "grid_column": null,
            "grid_gap": null,
            "grid_row": null,
            "grid_template_areas": null,
            "grid_template_columns": null,
            "grid_template_rows": null,
            "height": null,
            "justify_content": null,
            "justify_items": null,
            "left": null,
            "margin": null,
            "max_height": null,
            "max_width": null,
            "min_height": null,
            "min_width": null,
            "object_fit": null,
            "object_position": null,
            "order": null,
            "overflow": null,
            "overflow_x": null,
            "overflow_y": null,
            "padding": null,
            "right": null,
            "top": null,
            "visibility": null,
            "width": null
          }
        },
        "8bece923e434440cb3896c51a89973c7": {
          "model_module": "@jupyter-widgets/controls",
          "model_name": "DescriptionStyleModel",
          "model_module_version": "1.5.0",
          "state": {
            "_model_module": "@jupyter-widgets/controls",
            "_model_module_version": "1.5.0",
            "_model_name": "DescriptionStyleModel",
            "_view_count": null,
            "_view_module": "@jupyter-widgets/base",
            "_view_module_version": "1.2.0",
            "_view_name": "StyleView",
            "description_width": ""
          }
        },
        "91f3e33f932e44febf8bcf9c335dc467": {
          "model_module": "@jupyter-widgets/base",
          "model_name": "LayoutModel",
          "model_module_version": "1.2.0",
          "state": {
            "_model_module": "@jupyter-widgets/base",
            "_model_module_version": "1.2.0",
            "_model_name": "LayoutModel",
            "_view_count": null,
            "_view_module": "@jupyter-widgets/base",
            "_view_module_version": "1.2.0",
            "_view_name": "LayoutView",
            "align_content": null,
            "align_items": null,
            "align_self": null,
            "border": null,
            "bottom": null,
            "display": null,
            "flex": null,
            "flex_flow": null,
            "grid_area": null,
            "grid_auto_columns": null,
            "grid_auto_flow": null,
            "grid_auto_rows": null,
            "grid_column": null,
            "grid_gap": null,
            "grid_row": null,
            "grid_template_areas": null,
            "grid_template_columns": null,
            "grid_template_rows": null,
            "height": null,
            "justify_content": null,
            "justify_items": null,
            "left": null,
            "margin": null,
            "max_height": null,
            "max_width": null,
            "min_height": null,
            "min_width": null,
            "object_fit": null,
            "object_position": null,
            "order": null,
            "overflow": null,
            "overflow_x": null,
            "overflow_y": null,
            "padding": null,
            "right": null,
            "top": null,
            "visibility": null,
            "width": "20px"
          }
        },
        "630d350b72134608985be5f3d3090f69": {
          "model_module": "@jupyter-widgets/controls",
          "model_name": "ProgressStyleModel",
          "model_module_version": "1.5.0",
          "state": {
            "_model_module": "@jupyter-widgets/controls",
            "_model_module_version": "1.5.0",
            "_model_name": "ProgressStyleModel",
            "_view_count": null,
            "_view_module": "@jupyter-widgets/base",
            "_view_module_version": "1.2.0",
            "_view_name": "StyleView",
            "bar_color": null,
            "description_width": ""
          }
        },
        "40f632aa04ea4edb942f19fc6861507e": {
          "model_module": "@jupyter-widgets/base",
          "model_name": "LayoutModel",
          "model_module_version": "1.2.0",
          "state": {
            "_model_module": "@jupyter-widgets/base",
            "_model_module_version": "1.2.0",
            "_model_name": "LayoutModel",
            "_view_count": null,
            "_view_module": "@jupyter-widgets/base",
            "_view_module_version": "1.2.0",
            "_view_name": "LayoutView",
            "align_content": null,
            "align_items": null,
            "align_self": null,
            "border": null,
            "bottom": null,
            "display": null,
            "flex": null,
            "flex_flow": null,
            "grid_area": null,
            "grid_auto_columns": null,
            "grid_auto_flow": null,
            "grid_auto_rows": null,
            "grid_column": null,
            "grid_gap": null,
            "grid_row": null,
            "grid_template_areas": null,
            "grid_template_columns": null,
            "grid_template_rows": null,
            "height": null,
            "justify_content": null,
            "justify_items": null,
            "left": null,
            "margin": null,
            "max_height": null,
            "max_width": null,
            "min_height": null,
            "min_width": null,
            "object_fit": null,
            "object_position": null,
            "order": null,
            "overflow": null,
            "overflow_x": null,
            "overflow_y": null,
            "padding": null,
            "right": null,
            "top": null,
            "visibility": null,
            "width": null
          }
        },
        "1683c3c630bb4cfcbbb0c4a60be9805a": {
          "model_module": "@jupyter-widgets/controls",
          "model_name": "DescriptionStyleModel",
          "model_module_version": "1.5.0",
          "state": {
            "_model_module": "@jupyter-widgets/controls",
            "_model_module_version": "1.5.0",
            "_model_name": "DescriptionStyleModel",
            "_view_count": null,
            "_view_module": "@jupyter-widgets/base",
            "_view_module_version": "1.2.0",
            "_view_name": "StyleView",
            "description_width": ""
          }
        },
        "d9c2da5446c04ce7978401417be17f06": {
          "model_module": "@jupyter-widgets/controls",
          "model_name": "HBoxModel",
          "model_module_version": "1.5.0",
          "state": {
            "_dom_classes": [],
            "_model_module": "@jupyter-widgets/controls",
            "_model_module_version": "1.5.0",
            "_model_name": "HBoxModel",
            "_view_count": null,
            "_view_module": "@jupyter-widgets/controls",
            "_view_module_version": "1.5.0",
            "_view_name": "HBoxView",
            "box_style": "",
            "children": [
              "IPY_MODEL_f8cc9faef4e04b5082e8660198430dfa",
              "IPY_MODEL_91bc44d0b62f4d29ba409d08cfa1a063",
              "IPY_MODEL_10f39b471e7141ebaa9f0504a2db7868"
            ],
            "layout": "IPY_MODEL_acf6b63384ee403aa82600df52985ea8"
          }
        },
        "f8cc9faef4e04b5082e8660198430dfa": {
          "model_module": "@jupyter-widgets/controls",
          "model_name": "HTMLModel",
          "model_module_version": "1.5.0",
          "state": {
            "_dom_classes": [],
            "_model_module": "@jupyter-widgets/controls",
            "_model_module_version": "1.5.0",
            "_model_name": "HTMLModel",
            "_view_count": null,
            "_view_module": "@jupyter-widgets/controls",
            "_view_module_version": "1.5.0",
            "_view_name": "HTMLView",
            "description": "",
            "description_tooltip": null,
            "layout": "IPY_MODEL_3310a78d3b224b60b1a6b23f3e8eef13",
            "placeholder": "​",
            "style": "IPY_MODEL_2eac061630094aeba3c3fa39ca1dc843",
            "value": "spiece.model: 100%"
          }
        },
        "91bc44d0b62f4d29ba409d08cfa1a063": {
          "model_module": "@jupyter-widgets/controls",
          "model_name": "FloatProgressModel",
          "model_module_version": "1.5.0",
          "state": {
            "_dom_classes": [],
            "_model_module": "@jupyter-widgets/controls",
            "_model_module_version": "1.5.0",
            "_model_name": "FloatProgressModel",
            "_view_count": null,
            "_view_module": "@jupyter-widgets/controls",
            "_view_module_version": "1.5.0",
            "_view_name": "ProgressView",
            "bar_style": "success",
            "description": "",
            "description_tooltip": null,
            "layout": "IPY_MODEL_f5d7045ebd3d471d801abbf9aded78c2",
            "max": 791656,
            "min": 0,
            "orientation": "horizontal",
            "style": "IPY_MODEL_6698d68321c04d4f92eec10776fc5446",
            "value": 791656
          }
        },
        "10f39b471e7141ebaa9f0504a2db7868": {
          "model_module": "@jupyter-widgets/controls",
          "model_name": "HTMLModel",
          "model_module_version": "1.5.0",
          "state": {
            "_dom_classes": [],
            "_model_module": "@jupyter-widgets/controls",
            "_model_module_version": "1.5.0",
            "_model_name": "HTMLModel",
            "_view_count": null,
            "_view_module": "@jupyter-widgets/controls",
            "_view_module_version": "1.5.0",
            "_view_name": "HTMLView",
            "description": "",
            "description_tooltip": null,
            "layout": "IPY_MODEL_22259431bbf34057952b152cf4888817",
            "placeholder": "​",
            "style": "IPY_MODEL_e7dc3a24ac0b4470a93783a736b9f15a",
            "value": " 792k/792k [00:00&lt;00:00, 13.5MB/s]"
          }
        },
        "acf6b63384ee403aa82600df52985ea8": {
          "model_module": "@jupyter-widgets/base",
          "model_name": "LayoutModel",
          "model_module_version": "1.2.0",
          "state": {
            "_model_module": "@jupyter-widgets/base",
            "_model_module_version": "1.2.0",
            "_model_name": "LayoutModel",
            "_view_count": null,
            "_view_module": "@jupyter-widgets/base",
            "_view_module_version": "1.2.0",
            "_view_name": "LayoutView",
            "align_content": null,
            "align_items": null,
            "align_self": null,
            "border": null,
            "bottom": null,
            "display": null,
            "flex": null,
            "flex_flow": null,
            "grid_area": null,
            "grid_auto_columns": null,
            "grid_auto_flow": null,
            "grid_auto_rows": null,
            "grid_column": null,
            "grid_gap": null,
            "grid_row": null,
            "grid_template_areas": null,
            "grid_template_columns": null,
            "grid_template_rows": null,
            "height": null,
            "justify_content": null,
            "justify_items": null,
            "left": null,
            "margin": null,
            "max_height": null,
            "max_width": null,
            "min_height": null,
            "min_width": null,
            "object_fit": null,
            "object_position": null,
            "order": null,
            "overflow": null,
            "overflow_x": null,
            "overflow_y": null,
            "padding": null,
            "right": null,
            "top": null,
            "visibility": null,
            "width": null
          }
        },
        "3310a78d3b224b60b1a6b23f3e8eef13": {
          "model_module": "@jupyter-widgets/base",
          "model_name": "LayoutModel",
          "model_module_version": "1.2.0",
          "state": {
            "_model_module": "@jupyter-widgets/base",
            "_model_module_version": "1.2.0",
            "_model_name": "LayoutModel",
            "_view_count": null,
            "_view_module": "@jupyter-widgets/base",
            "_view_module_version": "1.2.0",
            "_view_name": "LayoutView",
            "align_content": null,
            "align_items": null,
            "align_self": null,
            "border": null,
            "bottom": null,
            "display": null,
            "flex": null,
            "flex_flow": null,
            "grid_area": null,
            "grid_auto_columns": null,
            "grid_auto_flow": null,
            "grid_auto_rows": null,
            "grid_column": null,
            "grid_gap": null,
            "grid_row": null,
            "grid_template_areas": null,
            "grid_template_columns": null,
            "grid_template_rows": null,
            "height": null,
            "justify_content": null,
            "justify_items": null,
            "left": null,
            "margin": null,
            "max_height": null,
            "max_width": null,
            "min_height": null,
            "min_width": null,
            "object_fit": null,
            "object_position": null,
            "order": null,
            "overflow": null,
            "overflow_x": null,
            "overflow_y": null,
            "padding": null,
            "right": null,
            "top": null,
            "visibility": null,
            "width": null
          }
        },
        "2eac061630094aeba3c3fa39ca1dc843": {
          "model_module": "@jupyter-widgets/controls",
          "model_name": "DescriptionStyleModel",
          "model_module_version": "1.5.0",
          "state": {
            "_model_module": "@jupyter-widgets/controls",
            "_model_module_version": "1.5.0",
            "_model_name": "DescriptionStyleModel",
            "_view_count": null,
            "_view_module": "@jupyter-widgets/base",
            "_view_module_version": "1.2.0",
            "_view_name": "StyleView",
            "description_width": ""
          }
        },
        "f5d7045ebd3d471d801abbf9aded78c2": {
          "model_module": "@jupyter-widgets/base",
          "model_name": "LayoutModel",
          "model_module_version": "1.2.0",
          "state": {
            "_model_module": "@jupyter-widgets/base",
            "_model_module_version": "1.2.0",
            "_model_name": "LayoutModel",
            "_view_count": null,
            "_view_module": "@jupyter-widgets/base",
            "_view_module_version": "1.2.0",
            "_view_name": "LayoutView",
            "align_content": null,
            "align_items": null,
            "align_self": null,
            "border": null,
            "bottom": null,
            "display": null,
            "flex": null,
            "flex_flow": null,
            "grid_area": null,
            "grid_auto_columns": null,
            "grid_auto_flow": null,
            "grid_auto_rows": null,
            "grid_column": null,
            "grid_gap": null,
            "grid_row": null,
            "grid_template_areas": null,
            "grid_template_columns": null,
            "grid_template_rows": null,
            "height": null,
            "justify_content": null,
            "justify_items": null,
            "left": null,
            "margin": null,
            "max_height": null,
            "max_width": null,
            "min_height": null,
            "min_width": null,
            "object_fit": null,
            "object_position": null,
            "order": null,
            "overflow": null,
            "overflow_x": null,
            "overflow_y": null,
            "padding": null,
            "right": null,
            "top": null,
            "visibility": null,
            "width": null
          }
        },
        "6698d68321c04d4f92eec10776fc5446": {
          "model_module": "@jupyter-widgets/controls",
          "model_name": "ProgressStyleModel",
          "model_module_version": "1.5.0",
          "state": {
            "_model_module": "@jupyter-widgets/controls",
            "_model_module_version": "1.5.0",
            "_model_name": "ProgressStyleModel",
            "_view_count": null,
            "_view_module": "@jupyter-widgets/base",
            "_view_module_version": "1.2.0",
            "_view_name": "StyleView",
            "bar_color": null,
            "description_width": ""
          }
        },
        "22259431bbf34057952b152cf4888817": {
          "model_module": "@jupyter-widgets/base",
          "model_name": "LayoutModel",
          "model_module_version": "1.2.0",
          "state": {
            "_model_module": "@jupyter-widgets/base",
            "_model_module_version": "1.2.0",
            "_model_name": "LayoutModel",
            "_view_count": null,
            "_view_module": "@jupyter-widgets/base",
            "_view_module_version": "1.2.0",
            "_view_name": "LayoutView",
            "align_content": null,
            "align_items": null,
            "align_self": null,
            "border": null,
            "bottom": null,
            "display": null,
            "flex": null,
            "flex_flow": null,
            "grid_area": null,
            "grid_auto_columns": null,
            "grid_auto_flow": null,
            "grid_auto_rows": null,
            "grid_column": null,
            "grid_gap": null,
            "grid_row": null,
            "grid_template_areas": null,
            "grid_template_columns": null,
            "grid_template_rows": null,
            "height": null,
            "justify_content": null,
            "justify_items": null,
            "left": null,
            "margin": null,
            "max_height": null,
            "max_width": null,
            "min_height": null,
            "min_width": null,
            "object_fit": null,
            "object_position": null,
            "order": null,
            "overflow": null,
            "overflow_x": null,
            "overflow_y": null,
            "padding": null,
            "right": null,
            "top": null,
            "visibility": null,
            "width": null
          }
        },
        "e7dc3a24ac0b4470a93783a736b9f15a": {
          "model_module": "@jupyter-widgets/controls",
          "model_name": "DescriptionStyleModel",
          "model_module_version": "1.5.0",
          "state": {
            "_model_module": "@jupyter-widgets/controls",
            "_model_module_version": "1.5.0",
            "_model_name": "DescriptionStyleModel",
            "_view_count": null,
            "_view_module": "@jupyter-widgets/base",
            "_view_module_version": "1.2.0",
            "_view_name": "StyleView",
            "description_width": ""
          }
        },
        "8470f8c87ec446c2a1ec2d9479715396": {
          "model_module": "@jupyter-widgets/controls",
          "model_name": "HBoxModel",
          "model_module_version": "1.5.0",
          "state": {
            "_dom_classes": [],
            "_model_module": "@jupyter-widgets/controls",
            "_model_module_version": "1.5.0",
            "_model_name": "HBoxModel",
            "_view_count": null,
            "_view_module": "@jupyter-widgets/controls",
            "_view_module_version": "1.5.0",
            "_view_name": "HBoxView",
            "box_style": "",
            "children": [
              "IPY_MODEL_76d651c4a3a54a91a2d78e3798e5b2ee",
              "IPY_MODEL_2adad6653a954973a7ca80cf80943c31",
              "IPY_MODEL_1a9ccea166cb4aa0bf51a9426c3cac28"
            ],
            "layout": "IPY_MODEL_291c5b112577479c8c0aa12c7fcf065d"
          }
        },
        "76d651c4a3a54a91a2d78e3798e5b2ee": {
          "model_module": "@jupyter-widgets/controls",
          "model_name": "HTMLModel",
          "model_module_version": "1.5.0",
          "state": {
            "_dom_classes": [],
            "_model_module": "@jupyter-widgets/controls",
            "_model_module_version": "1.5.0",
            "_model_name": "HTMLModel",
            "_view_count": null,
            "_view_module": "@jupyter-widgets/controls",
            "_view_module_version": "1.5.0",
            "_view_name": "HTMLView",
            "description": "",
            "description_tooltip": null,
            "layout": "IPY_MODEL_80a9232c8f2e4618b25cad1445dfdc70",
            "placeholder": "​",
            "style": "IPY_MODEL_f7fba1b83e2842f2b2e2074687aead4e",
            "value": "tokenizer.json: "
          }
        },
        "2adad6653a954973a7ca80cf80943c31": {
          "model_module": "@jupyter-widgets/controls",
          "model_name": "FloatProgressModel",
          "model_module_version": "1.5.0",
          "state": {
            "_dom_classes": [],
            "_model_module": "@jupyter-widgets/controls",
            "_model_module_version": "1.5.0",
            "_model_name": "FloatProgressModel",
            "_view_count": null,
            "_view_module": "@jupyter-widgets/controls",
            "_view_module_version": "1.5.0",
            "_view_name": "ProgressView",
            "bar_style": "success",
            "description": "",
            "description_tooltip": null,
            "layout": "IPY_MODEL_17c1be419e764c8bbb375c139cbd5be4",
            "max": 1,
            "min": 0,
            "orientation": "horizontal",
            "style": "IPY_MODEL_4d9f2fe4958b486c9c83518eaa4b2f75",
            "value": 1
          }
        },
        "1a9ccea166cb4aa0bf51a9426c3cac28": {
          "model_module": "@jupyter-widgets/controls",
          "model_name": "HTMLModel",
          "model_module_version": "1.5.0",
          "state": {
            "_dom_classes": [],
            "_model_module": "@jupyter-widgets/controls",
            "_model_module_version": "1.5.0",
            "_model_name": "HTMLModel",
            "_view_count": null,
            "_view_module": "@jupyter-widgets/controls",
            "_view_module_version": "1.5.0",
            "_view_name": "HTMLView",
            "description": "",
            "description_tooltip": null,
            "layout": "IPY_MODEL_e71a6e547fc54b0b83955c3c2f27b45b",
            "placeholder": "​",
            "style": "IPY_MODEL_0ca1c035812c49f3aa90f3ef8cd309e2",
            "value": " 1.39M/? [00:00&lt;00:00, 26.6MB/s]"
          }
        },
        "291c5b112577479c8c0aa12c7fcf065d": {
          "model_module": "@jupyter-widgets/base",
          "model_name": "LayoutModel",
          "model_module_version": "1.2.0",
          "state": {
            "_model_module": "@jupyter-widgets/base",
            "_model_module_version": "1.2.0",
            "_model_name": "LayoutModel",
            "_view_count": null,
            "_view_module": "@jupyter-widgets/base",
            "_view_module_version": "1.2.0",
            "_view_name": "LayoutView",
            "align_content": null,
            "align_items": null,
            "align_self": null,
            "border": null,
            "bottom": null,
            "display": null,
            "flex": null,
            "flex_flow": null,
            "grid_area": null,
            "grid_auto_columns": null,
            "grid_auto_flow": null,
            "grid_auto_rows": null,
            "grid_column": null,
            "grid_gap": null,
            "grid_row": null,
            "grid_template_areas": null,
            "grid_template_columns": null,
            "grid_template_rows": null,
            "height": null,
            "justify_content": null,
            "justify_items": null,
            "left": null,
            "margin": null,
            "max_height": null,
            "max_width": null,
            "min_height": null,
            "min_width": null,
            "object_fit": null,
            "object_position": null,
            "order": null,
            "overflow": null,
            "overflow_x": null,
            "overflow_y": null,
            "padding": null,
            "right": null,
            "top": null,
            "visibility": null,
            "width": null
          }
        },
        "80a9232c8f2e4618b25cad1445dfdc70": {
          "model_module": "@jupyter-widgets/base",
          "model_name": "LayoutModel",
          "model_module_version": "1.2.0",
          "state": {
            "_model_module": "@jupyter-widgets/base",
            "_model_module_version": "1.2.0",
            "_model_name": "LayoutModel",
            "_view_count": null,
            "_view_module": "@jupyter-widgets/base",
            "_view_module_version": "1.2.0",
            "_view_name": "LayoutView",
            "align_content": null,
            "align_items": null,
            "align_self": null,
            "border": null,
            "bottom": null,
            "display": null,
            "flex": null,
            "flex_flow": null,
            "grid_area": null,
            "grid_auto_columns": null,
            "grid_auto_flow": null,
            "grid_auto_rows": null,
            "grid_column": null,
            "grid_gap": null,
            "grid_row": null,
            "grid_template_areas": null,
            "grid_template_columns": null,
            "grid_template_rows": null,
            "height": null,
            "justify_content": null,
            "justify_items": null,
            "left": null,
            "margin": null,
            "max_height": null,
            "max_width": null,
            "min_height": null,
            "min_width": null,
            "object_fit": null,
            "object_position": null,
            "order": null,
            "overflow": null,
            "overflow_x": null,
            "overflow_y": null,
            "padding": null,
            "right": null,
            "top": null,
            "visibility": null,
            "width": null
          }
        },
        "f7fba1b83e2842f2b2e2074687aead4e": {
          "model_module": "@jupyter-widgets/controls",
          "model_name": "DescriptionStyleModel",
          "model_module_version": "1.5.0",
          "state": {
            "_model_module": "@jupyter-widgets/controls",
            "_model_module_version": "1.5.0",
            "_model_name": "DescriptionStyleModel",
            "_view_count": null,
            "_view_module": "@jupyter-widgets/base",
            "_view_module_version": "1.2.0",
            "_view_name": "StyleView",
            "description_width": ""
          }
        },
        "17c1be419e764c8bbb375c139cbd5be4": {
          "model_module": "@jupyter-widgets/base",
          "model_name": "LayoutModel",
          "model_module_version": "1.2.0",
          "state": {
            "_model_module": "@jupyter-widgets/base",
            "_model_module_version": "1.2.0",
            "_model_name": "LayoutModel",
            "_view_count": null,
            "_view_module": "@jupyter-widgets/base",
            "_view_module_version": "1.2.0",
            "_view_name": "LayoutView",
            "align_content": null,
            "align_items": null,
            "align_self": null,
            "border": null,
            "bottom": null,
            "display": null,
            "flex": null,
            "flex_flow": null,
            "grid_area": null,
            "grid_auto_columns": null,
            "grid_auto_flow": null,
            "grid_auto_rows": null,
            "grid_column": null,
            "grid_gap": null,
            "grid_row": null,
            "grid_template_areas": null,
            "grid_template_columns": null,
            "grid_template_rows": null,
            "height": null,
            "justify_content": null,
            "justify_items": null,
            "left": null,
            "margin": null,
            "max_height": null,
            "max_width": null,
            "min_height": null,
            "min_width": null,
            "object_fit": null,
            "object_position": null,
            "order": null,
            "overflow": null,
            "overflow_x": null,
            "overflow_y": null,
            "padding": null,
            "right": null,
            "top": null,
            "visibility": null,
            "width": "20px"
          }
        },
        "4d9f2fe4958b486c9c83518eaa4b2f75": {
          "model_module": "@jupyter-widgets/controls",
          "model_name": "ProgressStyleModel",
          "model_module_version": "1.5.0",
          "state": {
            "_model_module": "@jupyter-widgets/controls",
            "_model_module_version": "1.5.0",
            "_model_name": "ProgressStyleModel",
            "_view_count": null,
            "_view_module": "@jupyter-widgets/base",
            "_view_module_version": "1.2.0",
            "_view_name": "StyleView",
            "bar_color": null,
            "description_width": ""
          }
        },
        "e71a6e547fc54b0b83955c3c2f27b45b": {
          "model_module": "@jupyter-widgets/base",
          "model_name": "LayoutModel",
          "model_module_version": "1.2.0",
          "state": {
            "_model_module": "@jupyter-widgets/base",
            "_model_module_version": "1.2.0",
            "_model_name": "LayoutModel",
            "_view_count": null,
            "_view_module": "@jupyter-widgets/base",
            "_view_module_version": "1.2.0",
            "_view_name": "LayoutView",
            "align_content": null,
            "align_items": null,
            "align_self": null,
            "border": null,
            "bottom": null,
            "display": null,
            "flex": null,
            "flex_flow": null,
            "grid_area": null,
            "grid_auto_columns": null,
            "grid_auto_flow": null,
            "grid_auto_rows": null,
            "grid_column": null,
            "grid_gap": null,
            "grid_row": null,
            "grid_template_areas": null,
            "grid_template_columns": null,
            "grid_template_rows": null,
            "height": null,
            "justify_content": null,
            "justify_items": null,
            "left": null,
            "margin": null,
            "max_height": null,
            "max_width": null,
            "min_height": null,
            "min_width": null,
            "object_fit": null,
            "object_position": null,
            "order": null,
            "overflow": null,
            "overflow_x": null,
            "overflow_y": null,
            "padding": null,
            "right": null,
            "top": null,
            "visibility": null,
            "width": null
          }
        },
        "0ca1c035812c49f3aa90f3ef8cd309e2": {
          "model_module": "@jupyter-widgets/controls",
          "model_name": "DescriptionStyleModel",
          "model_module_version": "1.5.0",
          "state": {
            "_model_module": "@jupyter-widgets/controls",
            "_model_module_version": "1.5.0",
            "_model_name": "DescriptionStyleModel",
            "_view_count": null,
            "_view_module": "@jupyter-widgets/base",
            "_view_module_version": "1.2.0",
            "_view_name": "StyleView",
            "description_width": ""
          }
        },
        "208c94eade1644a582bae703aabb495c": {
          "model_module": "@jupyter-widgets/controls",
          "model_name": "HBoxModel",
          "model_module_version": "1.5.0",
          "state": {
            "_dom_classes": [],
            "_model_module": "@jupyter-widgets/controls",
            "_model_module_version": "1.5.0",
            "_model_name": "HBoxModel",
            "_view_count": null,
            "_view_module": "@jupyter-widgets/controls",
            "_view_module_version": "1.5.0",
            "_view_name": "HBoxView",
            "box_style": "",
            "children": [
              "IPY_MODEL_842815ea79ec4847bea59057d6cc7b21",
              "IPY_MODEL_2c15b72eb6ec4f0897035d26c181444f",
              "IPY_MODEL_ea3ef4d9226d43de8b9cd512ebf06052"
            ],
            "layout": "IPY_MODEL_3dca8268bace4c979359c1a2395e50ee"
          }
        },
        "842815ea79ec4847bea59057d6cc7b21": {
          "model_module": "@jupyter-widgets/controls",
          "model_name": "HTMLModel",
          "model_module_version": "1.5.0",
          "state": {
            "_dom_classes": [],
            "_model_module": "@jupyter-widgets/controls",
            "_model_module_version": "1.5.0",
            "_model_name": "HTMLModel",
            "_view_count": null,
            "_view_module": "@jupyter-widgets/controls",
            "_view_module_version": "1.5.0",
            "_view_name": "HTMLView",
            "description": "",
            "description_tooltip": null,
            "layout": "IPY_MODEL_294f84fb905448f794fbc131f73b7b81",
            "placeholder": "​",
            "style": "IPY_MODEL_ca9057bee3784791805d0ee672bf34e9",
            "value": "model.safetensors: 100%"
          }
        },
        "2c15b72eb6ec4f0897035d26c181444f": {
          "model_module": "@jupyter-widgets/controls",
          "model_name": "FloatProgressModel",
          "model_module_version": "1.5.0",
          "state": {
            "_dom_classes": [],
            "_model_module": "@jupyter-widgets/controls",
            "_model_module_version": "1.5.0",
            "_model_name": "FloatProgressModel",
            "_view_count": null,
            "_view_module": "@jupyter-widgets/controls",
            "_view_module_version": "1.5.0",
            "_view_name": "ProgressView",
            "bar_style": "success",
            "description": "",
            "description_tooltip": null,
            "layout": "IPY_MODEL_110ca3d1e02d4ec2ab38d47e8d8ef900",
            "max": 891646390,
            "min": 0,
            "orientation": "horizontal",
            "style": "IPY_MODEL_9ffc8d765a6c443fbaa9cae3c35f4758",
            "value": 891646390
          }
        },
        "ea3ef4d9226d43de8b9cd512ebf06052": {
          "model_module": "@jupyter-widgets/controls",
          "model_name": "HTMLModel",
          "model_module_version": "1.5.0",
          "state": {
            "_dom_classes": [],
            "_model_module": "@jupyter-widgets/controls",
            "_model_module_version": "1.5.0",
            "_model_name": "HTMLModel",
            "_view_count": null,
            "_view_module": "@jupyter-widgets/controls",
            "_view_module_version": "1.5.0",
            "_view_name": "HTMLView",
            "description": "",
            "description_tooltip": null,
            "layout": "IPY_MODEL_095bf3c65274404bb1b5c7d9d565a6ac",
            "placeholder": "​",
            "style": "IPY_MODEL_edae78ee811b41c8a3f44c5c333dfe7d",
            "value": " 892M/892M [00:23&lt;00:00, 45.1MB/s]"
          }
        },
        "3dca8268bace4c979359c1a2395e50ee": {
          "model_module": "@jupyter-widgets/base",
          "model_name": "LayoutModel",
          "model_module_version": "1.2.0",
          "state": {
            "_model_module": "@jupyter-widgets/base",
            "_model_module_version": "1.2.0",
            "_model_name": "LayoutModel",
            "_view_count": null,
            "_view_module": "@jupyter-widgets/base",
            "_view_module_version": "1.2.0",
            "_view_name": "LayoutView",
            "align_content": null,
            "align_items": null,
            "align_self": null,
            "border": null,
            "bottom": null,
            "display": null,
            "flex": null,
            "flex_flow": null,
            "grid_area": null,
            "grid_auto_columns": null,
            "grid_auto_flow": null,
            "grid_auto_rows": null,
            "grid_column": null,
            "grid_gap": null,
            "grid_row": null,
            "grid_template_areas": null,
            "grid_template_columns": null,
            "grid_template_rows": null,
            "height": null,
            "justify_content": null,
            "justify_items": null,
            "left": null,
            "margin": null,
            "max_height": null,
            "max_width": null,
            "min_height": null,
            "min_width": null,
            "object_fit": null,
            "object_position": null,
            "order": null,
            "overflow": null,
            "overflow_x": null,
            "overflow_y": null,
            "padding": null,
            "right": null,
            "top": null,
            "visibility": null,
            "width": null
          }
        },
        "294f84fb905448f794fbc131f73b7b81": {
          "model_module": "@jupyter-widgets/base",
          "model_name": "LayoutModel",
          "model_module_version": "1.2.0",
          "state": {
            "_model_module": "@jupyter-widgets/base",
            "_model_module_version": "1.2.0",
            "_model_name": "LayoutModel",
            "_view_count": null,
            "_view_module": "@jupyter-widgets/base",
            "_view_module_version": "1.2.0",
            "_view_name": "LayoutView",
            "align_content": null,
            "align_items": null,
            "align_self": null,
            "border": null,
            "bottom": null,
            "display": null,
            "flex": null,
            "flex_flow": null,
            "grid_area": null,
            "grid_auto_columns": null,
            "grid_auto_flow": null,
            "grid_auto_rows": null,
            "grid_column": null,
            "grid_gap": null,
            "grid_row": null,
            "grid_template_areas": null,
            "grid_template_columns": null,
            "grid_template_rows": null,
            "height": null,
            "justify_content": null,
            "justify_items": null,
            "left": null,
            "margin": null,
            "max_height": null,
            "max_width": null,
            "min_height": null,
            "min_width": null,
            "object_fit": null,
            "object_position": null,
            "order": null,
            "overflow": null,
            "overflow_x": null,
            "overflow_y": null,
            "padding": null,
            "right": null,
            "top": null,
            "visibility": null,
            "width": null
          }
        },
        "ca9057bee3784791805d0ee672bf34e9": {
          "model_module": "@jupyter-widgets/controls",
          "model_name": "DescriptionStyleModel",
          "model_module_version": "1.5.0",
          "state": {
            "_model_module": "@jupyter-widgets/controls",
            "_model_module_version": "1.5.0",
            "_model_name": "DescriptionStyleModel",
            "_view_count": null,
            "_view_module": "@jupyter-widgets/base",
            "_view_module_version": "1.2.0",
            "_view_name": "StyleView",
            "description_width": ""
          }
        },
        "110ca3d1e02d4ec2ab38d47e8d8ef900": {
          "model_module": "@jupyter-widgets/base",
          "model_name": "LayoutModel",
          "model_module_version": "1.2.0",
          "state": {
            "_model_module": "@jupyter-widgets/base",
            "_model_module_version": "1.2.0",
            "_model_name": "LayoutModel",
            "_view_count": null,
            "_view_module": "@jupyter-widgets/base",
            "_view_module_version": "1.2.0",
            "_view_name": "LayoutView",
            "align_content": null,
            "align_items": null,
            "align_self": null,
            "border": null,
            "bottom": null,
            "display": null,
            "flex": null,
            "flex_flow": null,
            "grid_area": null,
            "grid_auto_columns": null,
            "grid_auto_flow": null,
            "grid_auto_rows": null,
            "grid_column": null,
            "grid_gap": null,
            "grid_row": null,
            "grid_template_areas": null,
            "grid_template_columns": null,
            "grid_template_rows": null,
            "height": null,
            "justify_content": null,
            "justify_items": null,
            "left": null,
            "margin": null,
            "max_height": null,
            "max_width": null,
            "min_height": null,
            "min_width": null,
            "object_fit": null,
            "object_position": null,
            "order": null,
            "overflow": null,
            "overflow_x": null,
            "overflow_y": null,
            "padding": null,
            "right": null,
            "top": null,
            "visibility": null,
            "width": null
          }
        },
        "9ffc8d765a6c443fbaa9cae3c35f4758": {
          "model_module": "@jupyter-widgets/controls",
          "model_name": "ProgressStyleModel",
          "model_module_version": "1.5.0",
          "state": {
            "_model_module": "@jupyter-widgets/controls",
            "_model_module_version": "1.5.0",
            "_model_name": "ProgressStyleModel",
            "_view_count": null,
            "_view_module": "@jupyter-widgets/base",
            "_view_module_version": "1.2.0",
            "_view_name": "StyleView",
            "bar_color": null,
            "description_width": ""
          }
        },
        "095bf3c65274404bb1b5c7d9d565a6ac": {
          "model_module": "@jupyter-widgets/base",
          "model_name": "LayoutModel",
          "model_module_version": "1.2.0",
          "state": {
            "_model_module": "@jupyter-widgets/base",
            "_model_module_version": "1.2.0",
            "_model_name": "LayoutModel",
            "_view_count": null,
            "_view_module": "@jupyter-widgets/base",
            "_view_module_version": "1.2.0",
            "_view_name": "LayoutView",
            "align_content": null,
            "align_items": null,
            "align_self": null,
            "border": null,
            "bottom": null,
            "display": null,
            "flex": null,
            "flex_flow": null,
            "grid_area": null,
            "grid_auto_columns": null,
            "grid_auto_flow": null,
            "grid_auto_rows": null,
            "grid_column": null,
            "grid_gap": null,
            "grid_row": null,
            "grid_template_areas": null,
            "grid_template_columns": null,
            "grid_template_rows": null,
            "height": null,
            "justify_content": null,
            "justify_items": null,
            "left": null,
            "margin": null,
            "max_height": null,
            "max_width": null,
            "min_height": null,
            "min_width": null,
            "object_fit": null,
            "object_position": null,
            "order": null,
            "overflow": null,
            "overflow_x": null,
            "overflow_y": null,
            "padding": null,
            "right": null,
            "top": null,
            "visibility": null,
            "width": null
          }
        },
        "edae78ee811b41c8a3f44c5c333dfe7d": {
          "model_module": "@jupyter-widgets/controls",
          "model_name": "DescriptionStyleModel",
          "model_module_version": "1.5.0",
          "state": {
            "_model_module": "@jupyter-widgets/controls",
            "_model_module_version": "1.5.0",
            "_model_name": "DescriptionStyleModel",
            "_view_count": null,
            "_view_module": "@jupyter-widgets/base",
            "_view_module_version": "1.2.0",
            "_view_name": "StyleView",
            "description_width": ""
          }
        },
        "820449386d43425e952aa6094e4fff65": {
          "model_module": "@jupyter-widgets/controls",
          "model_name": "HBoxModel",
          "model_module_version": "1.5.0",
          "state": {
            "_dom_classes": [],
            "_model_module": "@jupyter-widgets/controls",
            "_model_module_version": "1.5.0",
            "_model_name": "HBoxModel",
            "_view_count": null,
            "_view_module": "@jupyter-widgets/controls",
            "_view_module_version": "1.5.0",
            "_view_name": "HBoxView",
            "box_style": "",
            "children": [
              "IPY_MODEL_80e544ae95184e6aba8430f608d35f4a",
              "IPY_MODEL_c0976e1d10ac4328a28e85da7f319de2",
              "IPY_MODEL_a3b865f448254fedad2f1c08f4038ae5"
            ],
            "layout": "IPY_MODEL_7897df3dfd014af782e6cc591f9cd8c0"
          }
        },
        "80e544ae95184e6aba8430f608d35f4a": {
          "model_module": "@jupyter-widgets/controls",
          "model_name": "HTMLModel",
          "model_module_version": "1.5.0",
          "state": {
            "_dom_classes": [],
            "_model_module": "@jupyter-widgets/controls",
            "_model_module_version": "1.5.0",
            "_model_name": "HTMLModel",
            "_view_count": null,
            "_view_module": "@jupyter-widgets/controls",
            "_view_module_version": "1.5.0",
            "_view_name": "HTMLView",
            "description": "",
            "description_tooltip": null,
            "layout": "IPY_MODEL_514285525d0b4f52924f9cbf06f6ef9f",
            "placeholder": "​",
            "style": "IPY_MODEL_f8f9c711447447e8b13061be50bf4cbe",
            "value": "generation_config.json: 100%"
          }
        },
        "c0976e1d10ac4328a28e85da7f319de2": {
          "model_module": "@jupyter-widgets/controls",
          "model_name": "FloatProgressModel",
          "model_module_version": "1.5.0",
          "state": {
            "_dom_classes": [],
            "_model_module": "@jupyter-widgets/controls",
            "_model_module_version": "1.5.0",
            "_model_name": "FloatProgressModel",
            "_view_count": null,
            "_view_module": "@jupyter-widgets/controls",
            "_view_module_version": "1.5.0",
            "_view_name": "ProgressView",
            "bar_style": "success",
            "description": "",
            "description_tooltip": null,
            "layout": "IPY_MODEL_781c5f6eac144774a3edf2072b796031",
            "max": 147,
            "min": 0,
            "orientation": "horizontal",
            "style": "IPY_MODEL_7e58dc0cce434e638a835430ed47cf12",
            "value": 147
          }
        },
        "a3b865f448254fedad2f1c08f4038ae5": {
          "model_module": "@jupyter-widgets/controls",
          "model_name": "HTMLModel",
          "model_module_version": "1.5.0",
          "state": {
            "_dom_classes": [],
            "_model_module": "@jupyter-widgets/controls",
            "_model_module_version": "1.5.0",
            "_model_name": "HTMLModel",
            "_view_count": null,
            "_view_module": "@jupyter-widgets/controls",
            "_view_module_version": "1.5.0",
            "_view_name": "HTMLView",
            "description": "",
            "description_tooltip": null,
            "layout": "IPY_MODEL_48d363794e9a45ceb8d6fa5fe1a2cdaf",
            "placeholder": "​",
            "style": "IPY_MODEL_b41daeebbb7546c6986db5ceb7ed3fe5",
            "value": " 147/147 [00:00&lt;00:00, 13.2kB/s]"
          }
        },
        "7897df3dfd014af782e6cc591f9cd8c0": {
          "model_module": "@jupyter-widgets/base",
          "model_name": "LayoutModel",
          "model_module_version": "1.2.0",
          "state": {
            "_model_module": "@jupyter-widgets/base",
            "_model_module_version": "1.2.0",
            "_model_name": "LayoutModel",
            "_view_count": null,
            "_view_module": "@jupyter-widgets/base",
            "_view_module_version": "1.2.0",
            "_view_name": "LayoutView",
            "align_content": null,
            "align_items": null,
            "align_self": null,
            "border": null,
            "bottom": null,
            "display": null,
            "flex": null,
            "flex_flow": null,
            "grid_area": null,
            "grid_auto_columns": null,
            "grid_auto_flow": null,
            "grid_auto_rows": null,
            "grid_column": null,
            "grid_gap": null,
            "grid_row": null,
            "grid_template_areas": null,
            "grid_template_columns": null,
            "grid_template_rows": null,
            "height": null,
            "justify_content": null,
            "justify_items": null,
            "left": null,
            "margin": null,
            "max_height": null,
            "max_width": null,
            "min_height": null,
            "min_width": null,
            "object_fit": null,
            "object_position": null,
            "order": null,
            "overflow": null,
            "overflow_x": null,
            "overflow_y": null,
            "padding": null,
            "right": null,
            "top": null,
            "visibility": null,
            "width": null
          }
        },
        "514285525d0b4f52924f9cbf06f6ef9f": {
          "model_module": "@jupyter-widgets/base",
          "model_name": "LayoutModel",
          "model_module_version": "1.2.0",
          "state": {
            "_model_module": "@jupyter-widgets/base",
            "_model_module_version": "1.2.0",
            "_model_name": "LayoutModel",
            "_view_count": null,
            "_view_module": "@jupyter-widgets/base",
            "_view_module_version": "1.2.0",
            "_view_name": "LayoutView",
            "align_content": null,
            "align_items": null,
            "align_self": null,
            "border": null,
            "bottom": null,
            "display": null,
            "flex": null,
            "flex_flow": null,
            "grid_area": null,
            "grid_auto_columns": null,
            "grid_auto_flow": null,
            "grid_auto_rows": null,
            "grid_column": null,
            "grid_gap": null,
            "grid_row": null,
            "grid_template_areas": null,
            "grid_template_columns": null,
            "grid_template_rows": null,
            "height": null,
            "justify_content": null,
            "justify_items": null,
            "left": null,
            "margin": null,
            "max_height": null,
            "max_width": null,
            "min_height": null,
            "min_width": null,
            "object_fit": null,
            "object_position": null,
            "order": null,
            "overflow": null,
            "overflow_x": null,
            "overflow_y": null,
            "padding": null,
            "right": null,
            "top": null,
            "visibility": null,
            "width": null
          }
        },
        "f8f9c711447447e8b13061be50bf4cbe": {
          "model_module": "@jupyter-widgets/controls",
          "model_name": "DescriptionStyleModel",
          "model_module_version": "1.5.0",
          "state": {
            "_model_module": "@jupyter-widgets/controls",
            "_model_module_version": "1.5.0",
            "_model_name": "DescriptionStyleModel",
            "_view_count": null,
            "_view_module": "@jupyter-widgets/base",
            "_view_module_version": "1.2.0",
            "_view_name": "StyleView",
            "description_width": ""
          }
        },
        "781c5f6eac144774a3edf2072b796031": {
          "model_module": "@jupyter-widgets/base",
          "model_name": "LayoutModel",
          "model_module_version": "1.2.0",
          "state": {
            "_model_module": "@jupyter-widgets/base",
            "_model_module_version": "1.2.0",
            "_model_name": "LayoutModel",
            "_view_count": null,
            "_view_module": "@jupyter-widgets/base",
            "_view_module_version": "1.2.0",
            "_view_name": "LayoutView",
            "align_content": null,
            "align_items": null,
            "align_self": null,
            "border": null,
            "bottom": null,
            "display": null,
            "flex": null,
            "flex_flow": null,
            "grid_area": null,
            "grid_auto_columns": null,
            "grid_auto_flow": null,
            "grid_auto_rows": null,
            "grid_column": null,
            "grid_gap": null,
            "grid_row": null,
            "grid_template_areas": null,
            "grid_template_columns": null,
            "grid_template_rows": null,
            "height": null,
            "justify_content": null,
            "justify_items": null,
            "left": null,
            "margin": null,
            "max_height": null,
            "max_width": null,
            "min_height": null,
            "min_width": null,
            "object_fit": null,
            "object_position": null,
            "order": null,
            "overflow": null,
            "overflow_x": null,
            "overflow_y": null,
            "padding": null,
            "right": null,
            "top": null,
            "visibility": null,
            "width": null
          }
        },
        "7e58dc0cce434e638a835430ed47cf12": {
          "model_module": "@jupyter-widgets/controls",
          "model_name": "ProgressStyleModel",
          "model_module_version": "1.5.0",
          "state": {
            "_model_module": "@jupyter-widgets/controls",
            "_model_module_version": "1.5.0",
            "_model_name": "ProgressStyleModel",
            "_view_count": null,
            "_view_module": "@jupyter-widgets/base",
            "_view_module_version": "1.2.0",
            "_view_name": "StyleView",
            "bar_color": null,
            "description_width": ""
          }
        },
        "48d363794e9a45ceb8d6fa5fe1a2cdaf": {
          "model_module": "@jupyter-widgets/base",
          "model_name": "LayoutModel",
          "model_module_version": "1.2.0",
          "state": {
            "_model_module": "@jupyter-widgets/base",
            "_model_module_version": "1.2.0",
            "_model_name": "LayoutModel",
            "_view_count": null,
            "_view_module": "@jupyter-widgets/base",
            "_view_module_version": "1.2.0",
            "_view_name": "LayoutView",
            "align_content": null,
            "align_items": null,
            "align_self": null,
            "border": null,
            "bottom": null,
            "display": null,
            "flex": null,
            "flex_flow": null,
            "grid_area": null,
            "grid_auto_columns": null,
            "grid_auto_flow": null,
            "grid_auto_rows": null,
            "grid_column": null,
            "grid_gap": null,
            "grid_row": null,
            "grid_template_areas": null,
            "grid_template_columns": null,
            "grid_template_rows": null,
            "height": null,
            "justify_content": null,
            "justify_items": null,
            "left": null,
            "margin": null,
            "max_height": null,
            "max_width": null,
            "min_height": null,
            "min_width": null,
            "object_fit": null,
            "object_position": null,
            "order": null,
            "overflow": null,
            "overflow_x": null,
            "overflow_y": null,
            "padding": null,
            "right": null,
            "top": null,
            "visibility": null,
            "width": null
          }
        },
        "b41daeebbb7546c6986db5ceb7ed3fe5": {
          "model_module": "@jupyter-widgets/controls",
          "model_name": "DescriptionStyleModel",
          "model_module_version": "1.5.0",
          "state": {
            "_model_module": "@jupyter-widgets/controls",
            "_model_module_version": "1.5.0",
            "_model_name": "DescriptionStyleModel",
            "_view_count": null,
            "_view_module": "@jupyter-widgets/base",
            "_view_module_version": "1.2.0",
            "_view_name": "StyleView",
            "description_width": ""
          }
        }
      }
    }
  },
  "nbformat": 4,
  "nbformat_minor": 0
}